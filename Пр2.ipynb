{
  "nbformat": 4,
  "nbformat_minor": 0,
  "metadata": {
    "colab": {
      "provenance": [],
      "gpuType": "T4",
      "authorship_tag": "ABX9TyN8rwsv388q3BTO3t5191xg",
      "include_colab_link": true
    },
    "kernelspec": {
      "name": "python3",
      "display_name": "Python 3"
    },
    "language_info": {
      "name": "python"
    },
    "accelerator": "GPU"
  },
  "cells": [
    {
      "cell_type": "markdown",
      "metadata": {
        "id": "view-in-github",
        "colab_type": "text"
      },
      "source": [
        "<a href=\"https://colab.research.google.com/github/KsuZavyalova/AIIM_ZavyalovaKsenia/blob/main/%D0%9F%D1%802.ipynb\" target=\"_parent\"><img src=\"https://colab.research.google.com/assets/colab-badge.svg\" alt=\"Open In Colab\"/></a>"
      ]
    },
    {
      "cell_type": "code",
      "execution_count": 1,
      "metadata": {
        "colab": {
          "base_uri": "https://localhost:8080/"
        },
        "id": "Ono92kf16iXy",
        "outputId": "235fcebf-9729-440c-aefd-45fbd817f632"
      },
      "outputs": [
        {
          "output_type": "stream",
          "name": "stdout",
          "text": [
            "Requirement already satisfied: opencv-python in /usr/local/lib/python3.10/dist-packages (4.10.0.84)\n",
            "Requirement already satisfied: numpy>=1.21.2 in /usr/local/lib/python3.10/dist-packages (from opencv-python) (1.26.4)\n",
            "Requirement already satisfied: ultralytics in /usr/local/lib/python3.10/dist-packages (8.3.21)\n",
            "Requirement already satisfied: numpy>=1.23.0 in /usr/local/lib/python3.10/dist-packages (from ultralytics) (1.26.4)\n",
            "Requirement already satisfied: matplotlib>=3.3.0 in /usr/local/lib/python3.10/dist-packages (from ultralytics) (3.7.1)\n",
            "Requirement already satisfied: opencv-python>=4.6.0 in /usr/local/lib/python3.10/dist-packages (from ultralytics) (4.10.0.84)\n",
            "Requirement already satisfied: pillow>=7.1.2 in /usr/local/lib/python3.10/dist-packages (from ultralytics) (10.4.0)\n",
            "Requirement already satisfied: pyyaml>=5.3.1 in /usr/local/lib/python3.10/dist-packages (from ultralytics) (6.0.2)\n",
            "Requirement already satisfied: requests>=2.23.0 in /usr/local/lib/python3.10/dist-packages (from ultralytics) (2.32.3)\n",
            "Requirement already satisfied: scipy>=1.4.1 in /usr/local/lib/python3.10/dist-packages (from ultralytics) (1.13.1)\n",
            "Requirement already satisfied: torch>=1.8.0 in /usr/local/lib/python3.10/dist-packages (from ultralytics) (2.5.0+cu121)\n",
            "Requirement already satisfied: torchvision>=0.9.0 in /usr/local/lib/python3.10/dist-packages (from ultralytics) (0.20.0+cu121)\n",
            "Requirement already satisfied: tqdm>=4.64.0 in /usr/local/lib/python3.10/dist-packages (from ultralytics) (4.66.5)\n",
            "Requirement already satisfied: psutil in /usr/local/lib/python3.10/dist-packages (from ultralytics) (5.9.5)\n",
            "Requirement already satisfied: py-cpuinfo in /usr/local/lib/python3.10/dist-packages (from ultralytics) (9.0.0)\n",
            "Requirement already satisfied: pandas>=1.1.4 in /usr/local/lib/python3.10/dist-packages (from ultralytics) (2.2.2)\n",
            "Requirement already satisfied: seaborn>=0.11.0 in /usr/local/lib/python3.10/dist-packages (from ultralytics) (0.13.2)\n",
            "Requirement already satisfied: ultralytics-thop>=2.0.0 in /usr/local/lib/python3.10/dist-packages (from ultralytics) (2.0.9)\n",
            "Requirement already satisfied: contourpy>=1.0.1 in /usr/local/lib/python3.10/dist-packages (from matplotlib>=3.3.0->ultralytics) (1.3.0)\n",
            "Requirement already satisfied: cycler>=0.10 in /usr/local/lib/python3.10/dist-packages (from matplotlib>=3.3.0->ultralytics) (0.12.1)\n",
            "Requirement already satisfied: fonttools>=4.22.0 in /usr/local/lib/python3.10/dist-packages (from matplotlib>=3.3.0->ultralytics) (4.54.1)\n",
            "Requirement already satisfied: kiwisolver>=1.0.1 in /usr/local/lib/python3.10/dist-packages (from matplotlib>=3.3.0->ultralytics) (1.4.7)\n",
            "Requirement already satisfied: packaging>=20.0 in /usr/local/lib/python3.10/dist-packages (from matplotlib>=3.3.0->ultralytics) (24.1)\n",
            "Requirement already satisfied: pyparsing>=2.3.1 in /usr/local/lib/python3.10/dist-packages (from matplotlib>=3.3.0->ultralytics) (3.2.0)\n",
            "Requirement already satisfied: python-dateutil>=2.7 in /usr/local/lib/python3.10/dist-packages (from matplotlib>=3.3.0->ultralytics) (2.8.2)\n",
            "Requirement already satisfied: pytz>=2020.1 in /usr/local/lib/python3.10/dist-packages (from pandas>=1.1.4->ultralytics) (2024.2)\n",
            "Requirement already satisfied: tzdata>=2022.7 in /usr/local/lib/python3.10/dist-packages (from pandas>=1.1.4->ultralytics) (2024.2)\n",
            "Requirement already satisfied: charset-normalizer<4,>=2 in /usr/local/lib/python3.10/dist-packages (from requests>=2.23.0->ultralytics) (3.4.0)\n",
            "Requirement already satisfied: idna<4,>=2.5 in /usr/local/lib/python3.10/dist-packages (from requests>=2.23.0->ultralytics) (3.10)\n",
            "Requirement already satisfied: urllib3<3,>=1.21.1 in /usr/local/lib/python3.10/dist-packages (from requests>=2.23.0->ultralytics) (2.2.3)\n",
            "Requirement already satisfied: certifi>=2017.4.17 in /usr/local/lib/python3.10/dist-packages (from requests>=2.23.0->ultralytics) (2024.8.30)\n",
            "Requirement already satisfied: filelock in /usr/local/lib/python3.10/dist-packages (from torch>=1.8.0->ultralytics) (3.16.1)\n",
            "Requirement already satisfied: typing-extensions>=4.8.0 in /usr/local/lib/python3.10/dist-packages (from torch>=1.8.0->ultralytics) (4.12.2)\n",
            "Requirement already satisfied: networkx in /usr/local/lib/python3.10/dist-packages (from torch>=1.8.0->ultralytics) (3.4.2)\n",
            "Requirement already satisfied: jinja2 in /usr/local/lib/python3.10/dist-packages (from torch>=1.8.0->ultralytics) (3.1.4)\n",
            "Requirement already satisfied: fsspec in /usr/local/lib/python3.10/dist-packages (from torch>=1.8.0->ultralytics) (2024.6.1)\n",
            "Requirement already satisfied: sympy==1.13.1 in /usr/local/lib/python3.10/dist-packages (from torch>=1.8.0->ultralytics) (1.13.1)\n",
            "Requirement already satisfied: mpmath<1.4,>=1.1.0 in /usr/local/lib/python3.10/dist-packages (from sympy==1.13.1->torch>=1.8.0->ultralytics) (1.3.0)\n",
            "Requirement already satisfied: six>=1.5 in /usr/local/lib/python3.10/dist-packages (from python-dateutil>=2.7->matplotlib>=3.3.0->ultralytics) (1.16.0)\n",
            "Requirement already satisfied: MarkupSafe>=2.0 in /usr/local/lib/python3.10/dist-packages (from jinja2->torch>=1.8.0->ultralytics) (3.0.2)\n",
            "True\n"
          ]
        }
      ],
      "source": [
        "!python -m pip install opencv-python\n",
        "!python -m pip install ultralytics\n",
        "!python -c \"import torch; print(torch.cuda.is_available())\""
      ]
    },
    {
      "cell_type": "code",
      "source": [
        "from google.colab import drive\n",
        "drive.mount(\"/content/gdrive/\", force_remount= True)"
      ],
      "metadata": {
        "colab": {
          "base_uri": "https://localhost:8080/"
        },
        "id": "rps7famJ7AKC",
        "outputId": "4ed8fb71-ec51-4cd9-813d-e2dbf124d380"
      },
      "execution_count": 6,
      "outputs": [
        {
          "output_type": "stream",
          "name": "stdout",
          "text": [
            "Mounted at /content/gdrive/\n"
          ]
        }
      ]
    },
    {
      "cell_type": "code",
      "source": [
        "from ultralytics import YOLO\n",
        "import os\n",
        "model = YOLO(\"yolov8s.pt\") # берём модель размера middle"
      ],
      "metadata": {
        "id": "KfnSAcx17MXd"
      },
      "execution_count": 2,
      "outputs": []
    },
    {
      "cell_type": "code",
      "source": [
        "dataset_dir = \"/content/gdrive/MyDrive/data/\" # путь к папке с вашим датасетом\n",
        "os.chdir(dataset_dir) # переходим в папку с датасетом, чтобы результаты обучения сохранялись в ней в папке runs/\n",
        "model.train(data=dataset_dir + \"data.yaml\", batch=16, epochs=50)"
      ],
      "metadata": {
        "id": "5Wpo0cSm7Qkc",
        "colab": {
          "base_uri": "https://localhost:8080/",
          "height": 1000
        },
        "outputId": "afcbb1f8-0d8c-475a-bcd3-5cb7ec5e54a7"
      },
      "execution_count": 3,
      "outputs": [
        {
          "output_type": "stream",
          "name": "stdout",
          "text": [
            "Ultralytics 8.3.21 🚀 Python-3.10.12 torch-2.5.0+cu121 CUDA:0 (Tesla T4, 15102MiB)\n",
            "\u001b[34m\u001b[1mengine/trainer: \u001b[0mtask=detect, mode=train, model=yolov8s.pt, data=/content/gdrive/MyDrive/data/data.yaml, epochs=50, time=None, patience=100, batch=16, imgsz=640, save=True, save_period=-1, cache=False, device=None, workers=8, project=None, name=train4, exist_ok=False, pretrained=True, optimizer=auto, verbose=True, seed=0, deterministic=True, single_cls=False, rect=False, cos_lr=False, close_mosaic=10, resume=False, amp=True, fraction=1.0, profile=False, freeze=None, multi_scale=False, overlap_mask=True, mask_ratio=4, dropout=0.0, val=True, split=val, save_json=False, save_hybrid=False, conf=None, iou=0.7, max_det=300, half=False, dnn=False, plots=True, source=None, vid_stride=1, stream_buffer=False, visualize=False, augment=False, agnostic_nms=False, classes=None, retina_masks=False, embed=None, show=False, save_frames=False, save_txt=False, save_conf=False, save_crop=False, show_labels=True, show_conf=True, show_boxes=True, line_width=None, format=torchscript, keras=False, optimize=False, int8=False, dynamic=False, simplify=True, opset=None, workspace=4, nms=False, lr0=0.01, lrf=0.01, momentum=0.937, weight_decay=0.0005, warmup_epochs=3.0, warmup_momentum=0.8, warmup_bias_lr=0.1, box=7.5, cls=0.5, dfl=1.5, pose=12.0, kobj=1.0, label_smoothing=0.0, nbs=64, hsv_h=0.015, hsv_s=0.7, hsv_v=0.4, degrees=0.0, translate=0.1, scale=0.5, shear=0.0, perspective=0.0, flipud=0.0, fliplr=0.5, bgr=0.0, mosaic=1.0, mixup=0.0, copy_paste=0.0, copy_paste_mode=flip, auto_augment=randaugment, erasing=0.4, crop_fraction=1.0, cfg=None, tracker=botsort.yaml, save_dir=runs/detect/train4\n",
            "Overriding model.yaml nc=80 with nc=1\n",
            "\n",
            "                   from  n    params  module                                       arguments                     \n",
            "  0                  -1  1       928  ultralytics.nn.modules.conv.Conv             [3, 32, 3, 2]                 \n",
            "  1                  -1  1     18560  ultralytics.nn.modules.conv.Conv             [32, 64, 3, 2]                \n",
            "  2                  -1  1     29056  ultralytics.nn.modules.block.C2f             [64, 64, 1, True]             \n",
            "  3                  -1  1     73984  ultralytics.nn.modules.conv.Conv             [64, 128, 3, 2]               \n",
            "  4                  -1  2    197632  ultralytics.nn.modules.block.C2f             [128, 128, 2, True]           \n",
            "  5                  -1  1    295424  ultralytics.nn.modules.conv.Conv             [128, 256, 3, 2]              \n",
            "  6                  -1  2    788480  ultralytics.nn.modules.block.C2f             [256, 256, 2, True]           \n",
            "  7                  -1  1   1180672  ultralytics.nn.modules.conv.Conv             [256, 512, 3, 2]              \n",
            "  8                  -1  1   1838080  ultralytics.nn.modules.block.C2f             [512, 512, 1, True]           \n",
            "  9                  -1  1    656896  ultralytics.nn.modules.block.SPPF            [512, 512, 5]                 \n",
            " 10                  -1  1         0  torch.nn.modules.upsampling.Upsample         [None, 2, 'nearest']          \n",
            " 11             [-1, 6]  1         0  ultralytics.nn.modules.conv.Concat           [1]                           \n",
            " 12                  -1  1    591360  ultralytics.nn.modules.block.C2f             [768, 256, 1]                 \n",
            " 13                  -1  1         0  torch.nn.modules.upsampling.Upsample         [None, 2, 'nearest']          \n",
            " 14             [-1, 4]  1         0  ultralytics.nn.modules.conv.Concat           [1]                           \n",
            " 15                  -1  1    148224  ultralytics.nn.modules.block.C2f             [384, 128, 1]                 \n",
            " 16                  -1  1    147712  ultralytics.nn.modules.conv.Conv             [128, 128, 3, 2]              \n",
            " 17            [-1, 12]  1         0  ultralytics.nn.modules.conv.Concat           [1]                           \n",
            " 18                  -1  1    493056  ultralytics.nn.modules.block.C2f             [384, 256, 1]                 \n",
            " 19                  -1  1    590336  ultralytics.nn.modules.conv.Conv             [256, 256, 3, 2]              \n",
            " 20             [-1, 9]  1         0  ultralytics.nn.modules.conv.Concat           [1]                           \n",
            " 21                  -1  1   1969152  ultralytics.nn.modules.block.C2f             [768, 512, 1]                 \n",
            " 22        [15, 18, 21]  1   2116435  ultralytics.nn.modules.head.Detect           [1, [128, 256, 512]]          \n",
            "Model summary: 225 layers, 11,135,987 parameters, 11,135,971 gradients, 28.6 GFLOPs\n",
            "\n",
            "Transferred 349/355 items from pretrained weights\n",
            "\u001b[34m\u001b[1mTensorBoard: \u001b[0mStart with 'tensorboard --logdir runs/detect/train4', view at http://localhost:6006/\n"
          ]
        },
        {
          "output_type": "stream",
          "name": "stderr",
          "text": [
            "\u001b[34m\u001b[1mwandb\u001b[0m: Using wandb-core as the SDK backend. Please refer to https://wandb.me/wandb-core for more information.\n",
            "\u001b[34m\u001b[1mwandb\u001b[0m: Currently logged in as: \u001b[33mkmzavyalova\u001b[0m (\u001b[33mkmzavyalova-hse\u001b[0m). Use \u001b[1m`wandb login --relogin`\u001b[0m to force relogin\n"
          ]
        },
        {
          "output_type": "display_data",
          "data": {
            "text/plain": [
              "<IPython.core.display.HTML object>"
            ],
            "text/html": [
              "Tracking run with wandb version 0.18.5"
            ]
          },
          "metadata": {}
        },
        {
          "output_type": "display_data",
          "data": {
            "text/plain": [
              "<IPython.core.display.HTML object>"
            ],
            "text/html": [
              "Run data is saved locally in <code>/content/gdrive/MyDrive/data/wandb/run-20241024_134327-lytaxpro</code>"
            ]
          },
          "metadata": {}
        },
        {
          "output_type": "display_data",
          "data": {
            "text/plain": [
              "<IPython.core.display.HTML object>"
            ],
            "text/html": [
              "Syncing run <strong><a href='https://wandb.ai/kmzavyalova-hse/Ultralytics/runs/lytaxpro' target=\"_blank\">train4</a></strong> to <a href='https://wandb.ai/kmzavyalova-hse/Ultralytics' target=\"_blank\">Weights & Biases</a> (<a href='https://wandb.me/run' target=\"_blank\">docs</a>)<br/>"
            ]
          },
          "metadata": {}
        },
        {
          "output_type": "display_data",
          "data": {
            "text/plain": [
              "<IPython.core.display.HTML object>"
            ],
            "text/html": [
              " View project at <a href='https://wandb.ai/kmzavyalova-hse/Ultralytics' target=\"_blank\">https://wandb.ai/kmzavyalova-hse/Ultralytics</a>"
            ]
          },
          "metadata": {}
        },
        {
          "output_type": "display_data",
          "data": {
            "text/plain": [
              "<IPython.core.display.HTML object>"
            ],
            "text/html": [
              " View run at <a href='https://wandb.ai/kmzavyalova-hse/Ultralytics/runs/lytaxpro' target=\"_blank\">https://wandb.ai/kmzavyalova-hse/Ultralytics/runs/lytaxpro</a>"
            ]
          },
          "metadata": {}
        },
        {
          "output_type": "stream",
          "name": "stdout",
          "text": [
            "Freezing layer 'model.22.dfl.conv.weight'\n",
            "\u001b[34m\u001b[1mAMP: \u001b[0mrunning Automatic Mixed Precision (AMP) checks...\n",
            "\u001b[34m\u001b[1mAMP: \u001b[0mchecks passed ✅\n"
          ]
        },
        {
          "output_type": "stream",
          "name": "stderr",
          "text": [
            "\u001b[34m\u001b[1mtrain: \u001b[0mScanning /content/gdrive/MyDrive/data/train/labels.cache... 400 images, 3 backgrounds, 0 corrupt: 100%|██████████| 400/400 [00:00<?, ?it/s]\n"
          ]
        },
        {
          "output_type": "stream",
          "name": "stdout",
          "text": [
            "\u001b[34m\u001b[1malbumentations: \u001b[0mBlur(p=0.01, blur_limit=(3, 7)), MedianBlur(p=0.01, blur_limit=(3, 7)), ToGray(p=0.01, num_output_channels=3, method='weighted_average'), CLAHE(p=0.01, clip_limit=(1, 4.0), tile_grid_size=(8, 8))\n"
          ]
        },
        {
          "output_type": "stream",
          "name": "stderr",
          "text": [
            "/usr/local/lib/python3.10/dist-packages/albumentations/__init__.py:13: UserWarning: A new version of Albumentations is available: 1.4.19 (you have 1.4.15). Upgrade using: pip install -U albumentations. To disable automatic update checks, set the environment variable NO_ALBUMENTATIONS_UPDATE to 1.\n",
            "  check_for_updates()\n",
            "\u001b[34m\u001b[1mval: \u001b[0mScanning /content/gdrive/MyDrive/data/val/labels.cache... 100 images, 1 backgrounds, 0 corrupt: 100%|██████████| 100/100 [00:00<?, ?it/s]\n"
          ]
        },
        {
          "output_type": "stream",
          "name": "stdout",
          "text": [
            "Plotting labels to runs/detect/train4/labels.jpg... \n",
            "\u001b[34m\u001b[1moptimizer:\u001b[0m 'optimizer=auto' found, ignoring 'lr0=0.01' and 'momentum=0.937' and determining best 'optimizer', 'lr0' and 'momentum' automatically... \n",
            "\u001b[34m\u001b[1moptimizer:\u001b[0m AdamW(lr=0.002, momentum=0.9) with parameter groups 57 weight(decay=0.0), 64 weight(decay=0.0005), 63 bias(decay=0.0)\n",
            "\u001b[34m\u001b[1mTensorBoard: \u001b[0mmodel graph visualization added ✅\n",
            "Image sizes 640 train, 640 val\n",
            "Using 2 dataloader workers\n",
            "Logging results to \u001b[1mruns/detect/train4\u001b[0m\n",
            "Starting training for 50 epochs...\n",
            "\n",
            "      Epoch    GPU_mem   box_loss   cls_loss   dfl_loss  Instances       Size\n"
          ]
        },
        {
          "output_type": "stream",
          "name": "stderr",
          "text": [
            "       1/50      4.04G     0.8772      1.896      1.386         45        640: 100%|██████████| 25/25 [00:11<00:00,  2.11it/s]\n",
            "                 Class     Images  Instances      Box(P          R      mAP50  mAP50-95): 100%|██████████| 4/4 [00:01<00:00,  2.38it/s]"
          ]
        },
        {
          "output_type": "stream",
          "name": "stdout",
          "text": [
            "                   all        100        113      0.484      0.558      0.476      0.244\n"
          ]
        },
        {
          "output_type": "stream",
          "name": "stderr",
          "text": [
            "\n"
          ]
        },
        {
          "output_type": "stream",
          "name": "stdout",
          "text": [
            "\n",
            "      Epoch    GPU_mem   box_loss   cls_loss   dfl_loss  Instances       Size\n"
          ]
        },
        {
          "output_type": "stream",
          "name": "stderr",
          "text": [
            "       2/50      4.01G     0.9679      1.177      1.417         50        640: 100%|██████████| 25/25 [00:11<00:00,  2.17it/s]\n",
            "                 Class     Images  Instances      Box(P          R      mAP50  mAP50-95): 100%|██████████| 4/4 [00:01<00:00,  2.63it/s]\n"
          ]
        },
        {
          "output_type": "stream",
          "name": "stdout",
          "text": [
            "                   all        100        113      0.481      0.327      0.385      0.217\n",
            "\n",
            "      Epoch    GPU_mem   box_loss   cls_loss   dfl_loss  Instances       Size\n"
          ]
        },
        {
          "output_type": "stream",
          "name": "stderr",
          "text": [
            "       3/50      3.87G      1.069      1.118       1.48         53        640: 100%|██████████| 25/25 [00:12<00:00,  2.03it/s]\n",
            "                 Class     Images  Instances      Box(P          R      mAP50  mAP50-95): 100%|██████████| 4/4 [00:01<00:00,  2.42it/s]"
          ]
        },
        {
          "output_type": "stream",
          "name": "stdout",
          "text": [
            "                   all        100        113      0.364      0.522      0.283      0.109\n"
          ]
        },
        {
          "output_type": "stream",
          "name": "stderr",
          "text": [
            "\n"
          ]
        },
        {
          "output_type": "stream",
          "name": "stdout",
          "text": [
            "\n",
            "      Epoch    GPU_mem   box_loss   cls_loss   dfl_loss  Instances       Size\n"
          ]
        },
        {
          "output_type": "stream",
          "name": "stderr",
          "text": [
            "       4/50      3.86G      1.112      1.135      1.507         46        640: 100%|██████████| 25/25 [00:09<00:00,  2.67it/s]\n",
            "                 Class     Images  Instances      Box(P          R      mAP50  mAP50-95): 100%|██████████| 4/4 [00:02<00:00,  1.89it/s]"
          ]
        },
        {
          "output_type": "stream",
          "name": "stdout",
          "text": [
            "                   all        100        113     0.0641      0.354     0.0396     0.0173\n"
          ]
        },
        {
          "output_type": "stream",
          "name": "stderr",
          "text": [
            "\n"
          ]
        },
        {
          "output_type": "stream",
          "name": "stdout",
          "text": [
            "\n",
            "      Epoch    GPU_mem   box_loss   cls_loss   dfl_loss  Instances       Size\n"
          ]
        },
        {
          "output_type": "stream",
          "name": "stderr",
          "text": [
            "       5/50         4G      1.175      1.121      1.555         39        640: 100%|██████████| 25/25 [00:09<00:00,  2.65it/s]\n",
            "                 Class     Images  Instances      Box(P          R      mAP50  mAP50-95): 100%|██████████| 4/4 [00:01<00:00,  2.83it/s]"
          ]
        },
        {
          "output_type": "stream",
          "name": "stdout",
          "text": [
            "                   all        100        113     0.0606      0.204     0.0308     0.0087\n"
          ]
        },
        {
          "output_type": "stream",
          "name": "stderr",
          "text": [
            "\n"
          ]
        },
        {
          "output_type": "stream",
          "name": "stdout",
          "text": [
            "\n",
            "      Epoch    GPU_mem   box_loss   cls_loss   dfl_loss  Instances       Size\n"
          ]
        },
        {
          "output_type": "stream",
          "name": "stderr",
          "text": [
            "       6/50      4.03G      1.142      1.084      1.528         50        640: 100%|██████████| 25/25 [00:12<00:00,  2.07it/s]\n",
            "                 Class     Images  Instances      Box(P          R      mAP50  mAP50-95): 100%|██████████| 4/4 [00:01<00:00,  2.43it/s]"
          ]
        },
        {
          "output_type": "stream",
          "name": "stdout",
          "text": [
            "                   all        100        113      0.148       0.15      0.053     0.0131\n"
          ]
        },
        {
          "output_type": "stream",
          "name": "stderr",
          "text": [
            "\n"
          ]
        },
        {
          "output_type": "stream",
          "name": "stdout",
          "text": [
            "\n",
            "      Epoch    GPU_mem   box_loss   cls_loss   dfl_loss  Instances       Size\n"
          ]
        },
        {
          "output_type": "stream",
          "name": "stderr",
          "text": [
            "       7/50      4.03G      1.099      1.036      1.498         47        640: 100%|██████████| 25/25 [00:11<00:00,  2.27it/s]\n",
            "                 Class     Images  Instances      Box(P          R      mAP50  mAP50-95): 100%|██████████| 4/4 [00:02<00:00,  1.53it/s]"
          ]
        },
        {
          "output_type": "stream",
          "name": "stdout",
          "text": [
            "                   all        100        113      0.641      0.726      0.695      0.387\n"
          ]
        },
        {
          "output_type": "stream",
          "name": "stderr",
          "text": [
            "\n"
          ]
        },
        {
          "output_type": "stream",
          "name": "stdout",
          "text": [
            "\n",
            "      Epoch    GPU_mem   box_loss   cls_loss   dfl_loss  Instances       Size\n"
          ]
        },
        {
          "output_type": "stream",
          "name": "stderr",
          "text": [
            "       8/50      4.02G      1.135      1.009      1.511         44        640: 100%|██████████| 25/25 [00:08<00:00,  2.88it/s]\n",
            "                 Class     Images  Instances      Box(P          R      mAP50  mAP50-95): 100%|██████████| 4/4 [00:02<00:00,  1.48it/s]"
          ]
        },
        {
          "output_type": "stream",
          "name": "stdout",
          "text": [
            "                   all        100        113      0.574      0.487      0.525      0.305\n"
          ]
        },
        {
          "output_type": "stream",
          "name": "stderr",
          "text": [
            "\n"
          ]
        },
        {
          "output_type": "stream",
          "name": "stdout",
          "text": [
            "\n",
            "      Epoch    GPU_mem   box_loss   cls_loss   dfl_loss  Instances       Size\n"
          ]
        },
        {
          "output_type": "stream",
          "name": "stderr",
          "text": [
            "       9/50      3.85G       1.06     0.9507      1.466         45        640: 100%|██████████| 25/25 [00:10<00:00,  2.42it/s]\n",
            "                 Class     Images  Instances      Box(P          R      mAP50  mAP50-95): 100%|██████████| 4/4 [00:01<00:00,  2.47it/s]"
          ]
        },
        {
          "output_type": "stream",
          "name": "stdout",
          "text": [
            "                   all        100        113       0.58      0.611      0.639      0.427\n"
          ]
        },
        {
          "output_type": "stream",
          "name": "stderr",
          "text": [
            "\n"
          ]
        },
        {
          "output_type": "stream",
          "name": "stdout",
          "text": [
            "\n",
            "      Epoch    GPU_mem   box_loss   cls_loss   dfl_loss  Instances       Size\n"
          ]
        },
        {
          "output_type": "stream",
          "name": "stderr",
          "text": [
            "      10/50      4.03G       1.03     0.9681      1.442         35        640: 100%|██████████| 25/25 [00:12<00:00,  2.05it/s]\n",
            "                 Class     Images  Instances      Box(P          R      mAP50  mAP50-95): 100%|██████████| 4/4 [00:01<00:00,  2.37it/s]"
          ]
        },
        {
          "output_type": "stream",
          "name": "stdout",
          "text": [
            "                   all        100        113      0.744      0.797      0.798      0.499\n"
          ]
        },
        {
          "output_type": "stream",
          "name": "stderr",
          "text": [
            "\n"
          ]
        },
        {
          "output_type": "stream",
          "name": "stdout",
          "text": [
            "\n",
            "      Epoch    GPU_mem   box_loss   cls_loss   dfl_loss  Instances       Size\n"
          ]
        },
        {
          "output_type": "stream",
          "name": "stderr",
          "text": [
            "      11/50      4.05G     0.9541     0.9103      1.394         45        640: 100%|██████████| 25/25 [00:10<00:00,  2.39it/s]\n",
            "                 Class     Images  Instances      Box(P          R      mAP50  mAP50-95): 100%|██████████| 4/4 [00:03<00:00,  1.20it/s]"
          ]
        },
        {
          "output_type": "stream",
          "name": "stdout",
          "text": [
            "                   all        100        113       0.62      0.646      0.644      0.415\n"
          ]
        },
        {
          "output_type": "stream",
          "name": "stderr",
          "text": [
            "\n"
          ]
        },
        {
          "output_type": "stream",
          "name": "stdout",
          "text": [
            "\n",
            "      Epoch    GPU_mem   box_loss   cls_loss   dfl_loss  Instances       Size\n"
          ]
        },
        {
          "output_type": "stream",
          "name": "stderr",
          "text": [
            "      12/50      4.05G     0.9767     0.8997      1.403         39        640: 100%|██████████| 25/25 [00:08<00:00,  2.96it/s]\n",
            "                 Class     Images  Instances      Box(P          R      mAP50  mAP50-95): 100%|██████████| 4/4 [00:02<00:00,  1.96it/s]"
          ]
        },
        {
          "output_type": "stream",
          "name": "stdout",
          "text": [
            "                   all        100        113       0.75      0.832      0.824      0.547\n"
          ]
        },
        {
          "output_type": "stream",
          "name": "stderr",
          "text": [
            "\n"
          ]
        },
        {
          "output_type": "stream",
          "name": "stdout",
          "text": [
            "\n",
            "      Epoch    GPU_mem   box_loss   cls_loss   dfl_loss  Instances       Size\n"
          ]
        },
        {
          "output_type": "stream",
          "name": "stderr",
          "text": [
            "      13/50         4G     0.9501     0.8785      1.389         51        640: 100%|██████████| 25/25 [00:10<00:00,  2.30it/s]\n",
            "                 Class     Images  Instances      Box(P          R      mAP50  mAP50-95): 100%|██████████| 4/4 [00:01<00:00,  2.56it/s]"
          ]
        },
        {
          "output_type": "stream",
          "name": "stdout",
          "text": [
            "                   all        100        113      0.618      0.717      0.655      0.432\n"
          ]
        },
        {
          "output_type": "stream",
          "name": "stderr",
          "text": [
            "\n"
          ]
        },
        {
          "output_type": "stream",
          "name": "stdout",
          "text": [
            "\n",
            "      Epoch    GPU_mem   box_loss   cls_loss   dfl_loss  Instances       Size\n"
          ]
        },
        {
          "output_type": "stream",
          "name": "stderr",
          "text": [
            "      14/50      4.03G     0.9565     0.8863       1.39         50        640: 100%|██████████| 25/25 [00:12<00:00,  2.05it/s]\n",
            "                 Class     Images  Instances      Box(P          R      mAP50  mAP50-95): 100%|██████████| 4/4 [00:01<00:00,  2.58it/s]"
          ]
        },
        {
          "output_type": "stream",
          "name": "stdout",
          "text": [
            "                   all        100        113      0.709      0.823      0.766       0.53\n"
          ]
        },
        {
          "output_type": "stream",
          "name": "stderr",
          "text": [
            "\n"
          ]
        },
        {
          "output_type": "stream",
          "name": "stdout",
          "text": [
            "\n",
            "      Epoch    GPU_mem   box_loss   cls_loss   dfl_loss  Instances       Size\n"
          ]
        },
        {
          "output_type": "stream",
          "name": "stderr",
          "text": [
            "      15/50      4.04G     0.9516     0.8429      1.373         44        640: 100%|██████████| 25/25 [00:09<00:00,  2.64it/s]\n",
            "                 Class     Images  Instances      Box(P          R      mAP50  mAP50-95): 100%|██████████| 4/4 [00:02<00:00,  1.84it/s]"
          ]
        },
        {
          "output_type": "stream",
          "name": "stdout",
          "text": [
            "                   all        100        113      0.821      0.823      0.917      0.667\n"
          ]
        },
        {
          "output_type": "stream",
          "name": "stderr",
          "text": [
            "\n"
          ]
        },
        {
          "output_type": "stream",
          "name": "stdout",
          "text": [
            "\n",
            "      Epoch    GPU_mem   box_loss   cls_loss   dfl_loss  Instances       Size\n"
          ]
        },
        {
          "output_type": "stream",
          "name": "stderr",
          "text": [
            "      16/50      4.03G     0.9385     0.8449       1.39         50        640: 100%|██████████| 25/25 [00:09<00:00,  2.74it/s]\n",
            "                 Class     Images  Instances      Box(P          R      mAP50  mAP50-95): 100%|██████████| 4/4 [00:01<00:00,  2.80it/s]"
          ]
        },
        {
          "output_type": "stream",
          "name": "stdout",
          "text": [
            "                   all        100        113       0.88      0.894      0.934      0.706\n"
          ]
        },
        {
          "output_type": "stream",
          "name": "stderr",
          "text": [
            "\n"
          ]
        },
        {
          "output_type": "stream",
          "name": "stdout",
          "text": [
            "\n",
            "      Epoch    GPU_mem   box_loss   cls_loss   dfl_loss  Instances       Size\n"
          ]
        },
        {
          "output_type": "stream",
          "name": "stderr",
          "text": [
            "      17/50      3.85G     0.9111     0.8199      1.377         42        640: 100%|██████████| 25/25 [00:11<00:00,  2.22it/s]\n",
            "                 Class     Images  Instances      Box(P          R      mAP50  mAP50-95): 100%|██████████| 4/4 [00:01<00:00,  2.99it/s]"
          ]
        },
        {
          "output_type": "stream",
          "name": "stdout",
          "text": [
            "                   all        100        113      0.887      0.975      0.959      0.705\n"
          ]
        },
        {
          "output_type": "stream",
          "name": "stderr",
          "text": [
            "\n"
          ]
        },
        {
          "output_type": "stream",
          "name": "stdout",
          "text": [
            "\n",
            "      Epoch    GPU_mem   box_loss   cls_loss   dfl_loss  Instances       Size\n"
          ]
        },
        {
          "output_type": "stream",
          "name": "stderr",
          "text": [
            "      18/50      3.87G     0.8401     0.7636      1.305         41        640: 100%|██████████| 25/25 [00:11<00:00,  2.13it/s]\n",
            "                 Class     Images  Instances      Box(P          R      mAP50  mAP50-95): 100%|██████████| 4/4 [00:01<00:00,  2.47it/s]"
          ]
        },
        {
          "output_type": "stream",
          "name": "stdout",
          "text": [
            "                   all        100        113      0.873      0.973      0.937       0.72\n"
          ]
        },
        {
          "output_type": "stream",
          "name": "stderr",
          "text": [
            "\n"
          ]
        },
        {
          "output_type": "stream",
          "name": "stdout",
          "text": [
            "\n",
            "      Epoch    GPU_mem   box_loss   cls_loss   dfl_loss  Instances       Size\n"
          ]
        },
        {
          "output_type": "stream",
          "name": "stderr",
          "text": [
            "      19/50      4.03G     0.9062     0.7848      1.345         40        640: 100%|██████████| 25/25 [00:09<00:00,  2.51it/s]\n",
            "                 Class     Images  Instances      Box(P          R      mAP50  mAP50-95): 100%|██████████| 4/4 [00:02<00:00,  1.57it/s]"
          ]
        },
        {
          "output_type": "stream",
          "name": "stdout",
          "text": [
            "                   all        100        113      0.862      0.938      0.954      0.732\n"
          ]
        },
        {
          "output_type": "stream",
          "name": "stderr",
          "text": [
            "\n"
          ]
        },
        {
          "output_type": "stream",
          "name": "stdout",
          "text": [
            "\n",
            "      Epoch    GPU_mem   box_loss   cls_loss   dfl_loss  Instances       Size\n"
          ]
        },
        {
          "output_type": "stream",
          "name": "stderr",
          "text": [
            "      20/50      4.05G     0.8352     0.7034      1.294         42        640: 100%|██████████| 25/25 [00:09<00:00,  2.68it/s]\n",
            "                 Class     Images  Instances      Box(P          R      mAP50  mAP50-95): 100%|██████████| 4/4 [00:01<00:00,  2.99it/s]"
          ]
        },
        {
          "output_type": "stream",
          "name": "stdout",
          "text": [
            "                   all        100        113      0.926       0.88      0.933      0.698\n"
          ]
        },
        {
          "output_type": "stream",
          "name": "stderr",
          "text": [
            "\n"
          ]
        },
        {
          "output_type": "stream",
          "name": "stdout",
          "text": [
            "\n",
            "      Epoch    GPU_mem   box_loss   cls_loss   dfl_loss  Instances       Size\n"
          ]
        },
        {
          "output_type": "stream",
          "name": "stderr",
          "text": [
            "      21/50      3.85G     0.8283     0.7362      1.312         33        640: 100%|██████████| 25/25 [00:11<00:00,  2.17it/s]\n",
            "                 Class     Images  Instances      Box(P          R      mAP50  mAP50-95): 100%|██████████| 4/4 [00:01<00:00,  2.60it/s]"
          ]
        },
        {
          "output_type": "stream",
          "name": "stdout",
          "text": [
            "                   all        100        113      0.869      0.939      0.947      0.714\n"
          ]
        },
        {
          "output_type": "stream",
          "name": "stderr",
          "text": [
            "\n"
          ]
        },
        {
          "output_type": "stream",
          "name": "stdout",
          "text": [
            "\n",
            "      Epoch    GPU_mem   box_loss   cls_loss   dfl_loss  Instances       Size\n"
          ]
        },
        {
          "output_type": "stream",
          "name": "stderr",
          "text": [
            "      22/50      4.03G     0.8465     0.7317      1.318         38        640: 100%|██████████| 25/25 [00:11<00:00,  2.14it/s]\n",
            "                 Class     Images  Instances      Box(P          R      mAP50  mAP50-95): 100%|██████████| 4/4 [00:01<00:00,  2.13it/s]"
          ]
        },
        {
          "output_type": "stream",
          "name": "stdout",
          "text": [
            "                   all        100        113      0.853       0.92      0.932      0.708\n"
          ]
        },
        {
          "output_type": "stream",
          "name": "stderr",
          "text": [
            "\n"
          ]
        },
        {
          "output_type": "stream",
          "name": "stdout",
          "text": [
            "\n",
            "      Epoch    GPU_mem   box_loss   cls_loss   dfl_loss  Instances       Size\n"
          ]
        },
        {
          "output_type": "stream",
          "name": "stderr",
          "text": [
            "      23/50      4.04G     0.7687     0.6506      1.257         38        640: 100%|██████████| 25/25 [00:08<00:00,  2.79it/s]\n",
            "                 Class     Images  Instances      Box(P          R      mAP50  mAP50-95): 100%|██████████| 4/4 [00:02<00:00,  1.70it/s]"
          ]
        },
        {
          "output_type": "stream",
          "name": "stdout",
          "text": [
            "                   all        100        113      0.871      0.929      0.924      0.723\n"
          ]
        },
        {
          "output_type": "stream",
          "name": "stderr",
          "text": [
            "\n"
          ]
        },
        {
          "output_type": "stream",
          "name": "stdout",
          "text": [
            "\n",
            "      Epoch    GPU_mem   box_loss   cls_loss   dfl_loss  Instances       Size\n"
          ]
        },
        {
          "output_type": "stream",
          "name": "stderr",
          "text": [
            "      24/50      3.89G       0.81     0.7003      1.288         54        640: 100%|██████████| 25/25 [00:09<00:00,  2.53it/s]\n",
            "                 Class     Images  Instances      Box(P          R      mAP50  mAP50-95): 100%|██████████| 4/4 [00:01<00:00,  3.14it/s]"
          ]
        },
        {
          "output_type": "stream",
          "name": "stdout",
          "text": [
            "                   all        100        113      0.918      0.895      0.936      0.729\n"
          ]
        },
        {
          "output_type": "stream",
          "name": "stderr",
          "text": [
            "\n"
          ]
        },
        {
          "output_type": "stream",
          "name": "stdout",
          "text": [
            "\n",
            "      Epoch    GPU_mem   box_loss   cls_loss   dfl_loss  Instances       Size\n"
          ]
        },
        {
          "output_type": "stream",
          "name": "stderr",
          "text": [
            "      25/50         4G     0.7553     0.6626      1.246         47        640: 100%|██████████| 25/25 [00:11<00:00,  2.16it/s]\n",
            "                 Class     Images  Instances      Box(P          R      mAP50  mAP50-95): 100%|██████████| 4/4 [00:01<00:00,  2.64it/s]"
          ]
        },
        {
          "output_type": "stream",
          "name": "stdout",
          "text": [
            "                   all        100        113      0.862      0.938      0.943      0.739\n"
          ]
        },
        {
          "output_type": "stream",
          "name": "stderr",
          "text": [
            "\n"
          ]
        },
        {
          "output_type": "stream",
          "name": "stdout",
          "text": [
            "\n",
            "      Epoch    GPU_mem   box_loss   cls_loss   dfl_loss  Instances       Size\n"
          ]
        },
        {
          "output_type": "stream",
          "name": "stderr",
          "text": [
            "      26/50      4.03G     0.7629      0.653      1.249         45        640: 100%|██████████| 25/25 [00:10<00:00,  2.36it/s]\n",
            "                 Class     Images  Instances      Box(P          R      mAP50  mAP50-95): 100%|██████████| 4/4 [00:02<00:00,  1.35it/s]"
          ]
        },
        {
          "output_type": "stream",
          "name": "stdout",
          "text": [
            "                   all        100        113      0.881      0.913      0.945      0.752\n"
          ]
        },
        {
          "output_type": "stream",
          "name": "stderr",
          "text": [
            "\n"
          ]
        },
        {
          "output_type": "stream",
          "name": "stdout",
          "text": [
            "\n",
            "      Epoch    GPU_mem   box_loss   cls_loss   dfl_loss  Instances       Size\n"
          ]
        },
        {
          "output_type": "stream",
          "name": "stderr",
          "text": [
            "      27/50      4.04G     0.8157     0.6887      1.301         39        640: 100%|██████████| 25/25 [00:08<00:00,  2.86it/s]\n",
            "                 Class     Images  Instances      Box(P          R      mAP50  mAP50-95): 100%|██████████| 4/4 [00:01<00:00,  2.13it/s]"
          ]
        },
        {
          "output_type": "stream",
          "name": "stdout",
          "text": [
            "                   all        100        113      0.884      0.956       0.93      0.734\n"
          ]
        },
        {
          "output_type": "stream",
          "name": "stderr",
          "text": [
            "\n"
          ]
        },
        {
          "output_type": "stream",
          "name": "stdout",
          "text": [
            "\n",
            "      Epoch    GPU_mem   box_loss   cls_loss   dfl_loss  Instances       Size\n"
          ]
        },
        {
          "output_type": "stream",
          "name": "stderr",
          "text": [
            "      28/50      3.87G     0.7533     0.6695      1.225         41        640: 100%|██████████| 25/25 [00:10<00:00,  2.36it/s]\n",
            "                 Class     Images  Instances      Box(P          R      mAP50  mAP50-95): 100%|██████████| 4/4 [00:01<00:00,  2.55it/s]"
          ]
        },
        {
          "output_type": "stream",
          "name": "stdout",
          "text": [
            "                   all        100        113      0.898      0.934      0.945      0.744\n"
          ]
        },
        {
          "output_type": "stream",
          "name": "stderr",
          "text": [
            "\n"
          ]
        },
        {
          "output_type": "stream",
          "name": "stdout",
          "text": [
            "\n",
            "      Epoch    GPU_mem   box_loss   cls_loss   dfl_loss  Instances       Size\n"
          ]
        },
        {
          "output_type": "stream",
          "name": "stderr",
          "text": [
            "      29/50      3.84G     0.7028     0.6131      1.241         35        640: 100%|██████████| 25/25 [00:11<00:00,  2.10it/s]\n",
            "                 Class     Images  Instances      Box(P          R      mAP50  mAP50-95): 100%|██████████| 4/4 [00:01<00:00,  2.67it/s]"
          ]
        },
        {
          "output_type": "stream",
          "name": "stdout",
          "text": [
            "                   all        100        113      0.915      0.949      0.967      0.809\n"
          ]
        },
        {
          "output_type": "stream",
          "name": "stderr",
          "text": [
            "\n"
          ]
        },
        {
          "output_type": "stream",
          "name": "stdout",
          "text": [
            "\n",
            "      Epoch    GPU_mem   box_loss   cls_loss   dfl_loss  Instances       Size\n"
          ]
        },
        {
          "output_type": "stream",
          "name": "stderr",
          "text": [
            "      30/50      4.03G     0.7242     0.6121      1.224         40        640: 100%|██████████| 25/25 [00:09<00:00,  2.55it/s]\n",
            "                 Class     Images  Instances      Box(P          R      mAP50  mAP50-95): 100%|██████████| 4/4 [00:02<00:00,  1.72it/s]"
          ]
        },
        {
          "output_type": "stream",
          "name": "stdout",
          "text": [
            "                   all        100        113      0.876      0.941      0.952      0.765\n"
          ]
        },
        {
          "output_type": "stream",
          "name": "stderr",
          "text": [
            "\n"
          ]
        },
        {
          "output_type": "stream",
          "name": "stdout",
          "text": [
            "\n",
            "      Epoch    GPU_mem   box_loss   cls_loss   dfl_loss  Instances       Size\n"
          ]
        },
        {
          "output_type": "stream",
          "name": "stderr",
          "text": [
            "      31/50      4.02G     0.7463     0.6159      1.243         51        640: 100%|██████████| 25/25 [00:08<00:00,  2.81it/s]\n",
            "                 Class     Images  Instances      Box(P          R      mAP50  mAP50-95): 100%|██████████| 4/4 [00:01<00:00,  2.45it/s]"
          ]
        },
        {
          "output_type": "stream",
          "name": "stdout",
          "text": [
            "                   all        100        113      0.895       0.92      0.959      0.773\n"
          ]
        },
        {
          "output_type": "stream",
          "name": "stderr",
          "text": [
            "\n"
          ]
        },
        {
          "output_type": "stream",
          "name": "stdout",
          "text": [
            "\n",
            "      Epoch    GPU_mem   box_loss   cls_loss   dfl_loss  Instances       Size\n"
          ]
        },
        {
          "output_type": "stream",
          "name": "stderr",
          "text": [
            "      32/50      4.05G     0.7288     0.5773      1.234         40        640: 100%|██████████| 25/25 [00:11<00:00,  2.12it/s]\n",
            "                 Class     Images  Instances      Box(P          R      mAP50  mAP50-95): 100%|██████████| 4/4 [00:01<00:00,  2.74it/s]"
          ]
        },
        {
          "output_type": "stream",
          "name": "stdout",
          "text": [
            "                   all        100        113      0.892      0.965       0.95      0.765\n"
          ]
        },
        {
          "output_type": "stream",
          "name": "stderr",
          "text": [
            "\n"
          ]
        },
        {
          "output_type": "stream",
          "name": "stdout",
          "text": [
            "\n",
            "      Epoch    GPU_mem   box_loss   cls_loss   dfl_loss  Instances       Size\n"
          ]
        },
        {
          "output_type": "stream",
          "name": "stderr",
          "text": [
            "      33/50         4G     0.7314     0.5994      1.252         45        640: 100%|██████████| 25/25 [00:11<00:00,  2.27it/s]\n",
            "                 Class     Images  Instances      Box(P          R      mAP50  mAP50-95): 100%|██████████| 4/4 [00:02<00:00,  1.64it/s]"
          ]
        },
        {
          "output_type": "stream",
          "name": "stdout",
          "text": [
            "                   all        100        113      0.897      0.912      0.934      0.771\n"
          ]
        },
        {
          "output_type": "stream",
          "name": "stderr",
          "text": [
            "\n"
          ]
        },
        {
          "output_type": "stream",
          "name": "stdout",
          "text": [
            "\n",
            "      Epoch    GPU_mem   box_loss   cls_loss   dfl_loss  Instances       Size\n"
          ]
        },
        {
          "output_type": "stream",
          "name": "stderr",
          "text": [
            "      34/50      4.03G     0.7035     0.5977      1.209         47        640: 100%|██████████| 25/25 [00:08<00:00,  2.96it/s]\n",
            "                 Class     Images  Instances      Box(P          R      mAP50  mAP50-95): 100%|██████████| 4/4 [00:02<00:00,  1.88it/s]"
          ]
        },
        {
          "output_type": "stream",
          "name": "stdout",
          "text": [
            "                   all        100        113       0.89      0.894      0.946      0.791\n"
          ]
        },
        {
          "output_type": "stream",
          "name": "stderr",
          "text": [
            "\n"
          ]
        },
        {
          "output_type": "stream",
          "name": "stdout",
          "text": [
            "\n",
            "      Epoch    GPU_mem   box_loss   cls_loss   dfl_loss  Instances       Size\n"
          ]
        },
        {
          "output_type": "stream",
          "name": "stderr",
          "text": [
            "      35/50      4.04G     0.7265     0.5969      1.236         43        640: 100%|██████████| 25/25 [00:10<00:00,  2.36it/s]\n",
            "                 Class     Images  Instances      Box(P          R      mAP50  mAP50-95): 100%|██████████| 4/4 [00:01<00:00,  2.58it/s]"
          ]
        },
        {
          "output_type": "stream",
          "name": "stdout",
          "text": [
            "                   all        100        113      0.876      0.947      0.946      0.751\n"
          ]
        },
        {
          "output_type": "stream",
          "name": "stderr",
          "text": [
            "\n"
          ]
        },
        {
          "output_type": "stream",
          "name": "stdout",
          "text": [
            "\n",
            "      Epoch    GPU_mem   box_loss   cls_loss   dfl_loss  Instances       Size\n"
          ]
        },
        {
          "output_type": "stream",
          "name": "stderr",
          "text": [
            "      36/50      4.02G     0.6882     0.5702      1.209         45        640: 100%|██████████| 25/25 [00:12<00:00,  2.03it/s]\n",
            "                 Class     Images  Instances      Box(P          R      mAP50  mAP50-95): 100%|██████████| 4/4 [00:01<00:00,  2.71it/s]"
          ]
        },
        {
          "output_type": "stream",
          "name": "stdout",
          "text": [
            "                   all        100        113      0.843      0.956       0.94       0.79\n"
          ]
        },
        {
          "output_type": "stream",
          "name": "stderr",
          "text": [
            "\n"
          ]
        },
        {
          "output_type": "stream",
          "name": "stdout",
          "text": [
            "\n",
            "      Epoch    GPU_mem   box_loss   cls_loss   dfl_loss  Instances       Size\n"
          ]
        },
        {
          "output_type": "stream",
          "name": "stderr",
          "text": [
            "      37/50         4G     0.6971     0.5808      1.224         39        640: 100%|██████████| 25/25 [00:09<00:00,  2.70it/s]\n",
            "                 Class     Images  Instances      Box(P          R      mAP50  mAP50-95): 100%|██████████| 4/4 [00:02<00:00,  1.73it/s]"
          ]
        },
        {
          "output_type": "stream",
          "name": "stdout",
          "text": [
            "                   all        100        113       0.87       0.92      0.949      0.803\n"
          ]
        },
        {
          "output_type": "stream",
          "name": "stderr",
          "text": [
            "\n"
          ]
        },
        {
          "output_type": "stream",
          "name": "stdout",
          "text": [
            "\n",
            "      Epoch    GPU_mem   box_loss   cls_loss   dfl_loss  Instances       Size\n"
          ]
        },
        {
          "output_type": "stream",
          "name": "stderr",
          "text": [
            "      38/50      3.87G     0.6571     0.5601      1.206         49        640: 100%|██████████| 25/25 [00:08<00:00,  2.83it/s]\n",
            "                 Class     Images  Instances      Box(P          R      mAP50  mAP50-95): 100%|██████████| 4/4 [00:01<00:00,  2.05it/s]"
          ]
        },
        {
          "output_type": "stream",
          "name": "stdout",
          "text": [
            "                   all        100        113      0.894      0.938      0.958      0.803\n"
          ]
        },
        {
          "output_type": "stream",
          "name": "stderr",
          "text": [
            "\n"
          ]
        },
        {
          "output_type": "stream",
          "name": "stdout",
          "text": [
            "\n",
            "      Epoch    GPU_mem   box_loss   cls_loss   dfl_loss  Instances       Size\n"
          ]
        },
        {
          "output_type": "stream",
          "name": "stderr",
          "text": [
            "      39/50      4.03G     0.6557     0.5735      1.192         49        640: 100%|██████████| 25/25 [00:11<00:00,  2.14it/s]\n",
            "                 Class     Images  Instances      Box(P          R      mAP50  mAP50-95): 100%|██████████| 4/4 [00:01<00:00,  3.44it/s]"
          ]
        },
        {
          "output_type": "stream",
          "name": "stdout",
          "text": [
            "                   all        100        113      0.884      0.956      0.967      0.835\n"
          ]
        },
        {
          "output_type": "stream",
          "name": "stderr",
          "text": [
            "\n"
          ]
        },
        {
          "output_type": "stream",
          "name": "stdout",
          "text": [
            "\n",
            "      Epoch    GPU_mem   box_loss   cls_loss   dfl_loss  Instances       Size\n"
          ]
        },
        {
          "output_type": "stream",
          "name": "stderr",
          "text": [
            "      40/50      4.04G      0.599     0.5262      1.148         43        640: 100%|██████████| 25/25 [00:10<00:00,  2.32it/s]\n",
            "                 Class     Images  Instances      Box(P          R      mAP50  mAP50-95): 100%|██████████| 4/4 [00:02<00:00,  1.57it/s]"
          ]
        },
        {
          "output_type": "stream",
          "name": "stdout",
          "text": [
            "                   all        100        113      0.916      0.965      0.966       0.84\n"
          ]
        },
        {
          "output_type": "stream",
          "name": "stderr",
          "text": [
            "\n"
          ]
        },
        {
          "output_type": "stream",
          "name": "stdout",
          "text": [
            "Closing dataloader mosaic\n",
            "\u001b[34m\u001b[1malbumentations: \u001b[0mBlur(p=0.01, blur_limit=(3, 7)), MedianBlur(p=0.01, blur_limit=(3, 7)), ToGray(p=0.01, num_output_channels=3, method='weighted_average'), CLAHE(p=0.01, clip_limit=(1, 4.0), tile_grid_size=(8, 8))\n",
            "\n",
            "      Epoch    GPU_mem   box_loss   cls_loss   dfl_loss  Instances       Size\n"
          ]
        },
        {
          "output_type": "stream",
          "name": "stderr",
          "text": [
            "      41/50      3.85G     0.4885     0.4615      1.099         19        640: 100%|██████████| 25/25 [00:11<00:00,  2.23it/s]\n",
            "                 Class     Images  Instances      Box(P          R      mAP50  mAP50-95): 100%|██████████| 4/4 [00:01<00:00,  2.52it/s]"
          ]
        },
        {
          "output_type": "stream",
          "name": "stdout",
          "text": [
            "                   all        100        113      0.892      0.973      0.967      0.821\n"
          ]
        },
        {
          "output_type": "stream",
          "name": "stderr",
          "text": [
            "\n"
          ]
        },
        {
          "output_type": "stream",
          "name": "stdout",
          "text": [
            "\n",
            "      Epoch    GPU_mem   box_loss   cls_loss   dfl_loss  Instances       Size\n"
          ]
        },
        {
          "output_type": "stream",
          "name": "stderr",
          "text": [
            "      42/50      4.03G     0.4682     0.3992        1.1         18        640: 100%|██████████| 25/25 [00:09<00:00,  2.75it/s]\n",
            "                 Class     Images  Instances      Box(P          R      mAP50  mAP50-95): 100%|██████████| 4/4 [00:01<00:00,  2.88it/s]"
          ]
        },
        {
          "output_type": "stream",
          "name": "stdout",
          "text": [
            "                   all        100        113      0.869      0.929      0.952      0.803\n"
          ]
        },
        {
          "output_type": "stream",
          "name": "stderr",
          "text": [
            "\n"
          ]
        },
        {
          "output_type": "stream",
          "name": "stdout",
          "text": [
            "\n",
            "      Epoch    GPU_mem   box_loss   cls_loss   dfl_loss  Instances       Size\n"
          ]
        },
        {
          "output_type": "stream",
          "name": "stderr",
          "text": [
            "      43/50      4.02G     0.4389     0.3587      1.065         21        640: 100%|██████████| 25/25 [00:11<00:00,  2.20it/s]\n",
            "                 Class     Images  Instances      Box(P          R      mAP50  mAP50-95): 100%|██████████| 4/4 [00:01<00:00,  3.01it/s]"
          ]
        },
        {
          "output_type": "stream",
          "name": "stdout",
          "text": [
            "                   all        100        113      0.875      0.938      0.938      0.821\n"
          ]
        },
        {
          "output_type": "stream",
          "name": "stderr",
          "text": [
            "\n"
          ]
        },
        {
          "output_type": "stream",
          "name": "stdout",
          "text": [
            "\n",
            "      Epoch    GPU_mem   box_loss   cls_loss   dfl_loss  Instances       Size\n"
          ]
        },
        {
          "output_type": "stream",
          "name": "stderr",
          "text": [
            "      44/50      4.04G     0.4404      0.363       1.07         18        640: 100%|██████████| 25/25 [00:09<00:00,  2.52it/s]\n",
            "                 Class     Images  Instances      Box(P          R      mAP50  mAP50-95): 100%|██████████| 4/4 [00:02<00:00,  1.49it/s]"
          ]
        },
        {
          "output_type": "stream",
          "name": "stdout",
          "text": [
            "                   all        100        113      0.885      0.955      0.943      0.823\n"
          ]
        },
        {
          "output_type": "stream",
          "name": "stderr",
          "text": [
            "\n"
          ]
        },
        {
          "output_type": "stream",
          "name": "stdout",
          "text": [
            "\n",
            "      Epoch    GPU_mem   box_loss   cls_loss   dfl_loss  Instances       Size\n"
          ]
        },
        {
          "output_type": "stream",
          "name": "stderr",
          "text": [
            "      45/50         4G     0.4342     0.3556      1.038         20        640: 100%|██████████| 25/25 [00:08<00:00,  3.07it/s]\n",
            "                 Class     Images  Instances      Box(P          R      mAP50  mAP50-95): 100%|██████████| 4/4 [00:01<00:00,  2.72it/s]"
          ]
        },
        {
          "output_type": "stream",
          "name": "stdout",
          "text": [
            "                   all        100        113      0.885      0.965      0.957       0.84\n"
          ]
        },
        {
          "output_type": "stream",
          "name": "stderr",
          "text": [
            "\n"
          ]
        },
        {
          "output_type": "stream",
          "name": "stdout",
          "text": [
            "\n",
            "      Epoch    GPU_mem   box_loss   cls_loss   dfl_loss  Instances       Size\n"
          ]
        },
        {
          "output_type": "stream",
          "name": "stderr",
          "text": [
            "      46/50      4.03G     0.4346     0.3544      1.051         20        640: 100%|██████████| 25/25 [00:11<00:00,  2.17it/s]\n",
            "                 Class     Images  Instances      Box(P          R      mAP50  mAP50-95): 100%|██████████| 4/4 [00:01<00:00,  2.73it/s]"
          ]
        },
        {
          "output_type": "stream",
          "name": "stdout",
          "text": [
            "                   all        100        113      0.858      0.961      0.941       0.84\n"
          ]
        },
        {
          "output_type": "stream",
          "name": "stderr",
          "text": [
            "\n"
          ]
        },
        {
          "output_type": "stream",
          "name": "stdout",
          "text": [
            "\n",
            "      Epoch    GPU_mem   box_loss   cls_loss   dfl_loss  Instances       Size\n"
          ]
        },
        {
          "output_type": "stream",
          "name": "stderr",
          "text": [
            "      47/50      4.04G     0.4034     0.3295      1.028         20        640: 100%|██████████| 25/25 [00:10<00:00,  2.39it/s]\n",
            "                 Class     Images  Instances      Box(P          R      mAP50  mAP50-95): 100%|██████████| 4/4 [00:02<00:00,  1.43it/s]"
          ]
        },
        {
          "output_type": "stream",
          "name": "stdout",
          "text": [
            "                   all        100        113      0.859       0.97      0.948      0.842\n"
          ]
        },
        {
          "output_type": "stream",
          "name": "stderr",
          "text": [
            "\n"
          ]
        },
        {
          "output_type": "stream",
          "name": "stdout",
          "text": [
            "\n",
            "      Epoch    GPU_mem   box_loss   cls_loss   dfl_loss  Instances       Size\n"
          ]
        },
        {
          "output_type": "stream",
          "name": "stderr",
          "text": [
            "      48/50      3.87G        0.4     0.3324      1.039         18        640: 100%|██████████| 25/25 [00:08<00:00,  3.03it/s]\n",
            "                 Class     Images  Instances      Box(P          R      mAP50  mAP50-95): 100%|██████████| 4/4 [00:01<00:00,  2.10it/s]"
          ]
        },
        {
          "output_type": "stream",
          "name": "stdout",
          "text": [
            "                   all        100        113      0.872      0.962       0.96      0.848\n"
          ]
        },
        {
          "output_type": "stream",
          "name": "stderr",
          "text": [
            "\n"
          ]
        },
        {
          "output_type": "stream",
          "name": "stdout",
          "text": [
            "\n",
            "      Epoch    GPU_mem   box_loss   cls_loss   dfl_loss  Instances       Size\n"
          ]
        },
        {
          "output_type": "stream",
          "name": "stderr",
          "text": [
            "      49/50      3.84G     0.3697     0.3092      1.017         19        640: 100%|██████████| 25/25 [00:11<00:00,  2.23it/s]\n",
            "                 Class     Images  Instances      Box(P          R      mAP50  mAP50-95): 100%|██████████| 4/4 [00:01<00:00,  2.96it/s]"
          ]
        },
        {
          "output_type": "stream",
          "name": "stdout",
          "text": [
            "                   all        100        113      0.857      0.973       0.96      0.847\n"
          ]
        },
        {
          "output_type": "stream",
          "name": "stderr",
          "text": [
            "\n"
          ]
        },
        {
          "output_type": "stream",
          "name": "stdout",
          "text": [
            "\n",
            "      Epoch    GPU_mem   box_loss   cls_loss   dfl_loss  Instances       Size\n"
          ]
        },
        {
          "output_type": "stream",
          "name": "stderr",
          "text": [
            "      50/50      3.87G     0.3868     0.3046      1.026         27        640: 100%|██████████| 25/25 [00:12<00:00,  2.08it/s]\n",
            "                 Class     Images  Instances      Box(P          R      mAP50  mAP50-95): 100%|██████████| 4/4 [00:01<00:00,  2.42it/s]"
          ]
        },
        {
          "output_type": "stream",
          "name": "stdout",
          "text": [
            "                   all        100        113      0.866      0.956       0.96      0.855\n"
          ]
        },
        {
          "output_type": "stream",
          "name": "stderr",
          "text": [
            "\n"
          ]
        },
        {
          "output_type": "stream",
          "name": "stdout",
          "text": [
            "\n",
            "50 epochs completed in 0.192 hours.\n",
            "Optimizer stripped from runs/detect/train4/weights/last.pt, 22.5MB\n",
            "Optimizer stripped from runs/detect/train4/weights/best.pt, 22.5MB\n",
            "\n",
            "Validating runs/detect/train4/weights/best.pt...\n",
            "Ultralytics 8.3.21 🚀 Python-3.10.12 torch-2.5.0+cu121 CUDA:0 (Tesla T4, 15102MiB)\n",
            "Model summary (fused): 168 layers, 11,125,971 parameters, 0 gradients, 28.4 GFLOPs\n"
          ]
        },
        {
          "output_type": "stream",
          "name": "stderr",
          "text": [
            "                 Class     Images  Instances      Box(P          R      mAP50  mAP50-95): 100%|██████████| 4/4 [00:02<00:00,  1.52it/s]\n"
          ]
        },
        {
          "output_type": "stream",
          "name": "stdout",
          "text": [
            "                   all        100        113      0.866      0.956       0.96      0.854\n",
            "Speed: 0.2ms preprocess, 6.4ms inference, 0.0ms loss, 6.8ms postprocess per image\n",
            "Results saved to \u001b[1mruns/detect/train4\u001b[0m\n"
          ]
        },
        {
          "output_type": "display_data",
          "data": {
            "text/plain": [
              "<IPython.core.display.HTML object>"
            ],
            "text/html": [
              "<style>\n",
              "    table.wandb td:nth-child(1) { padding: 0 10px; text-align: left ; width: auto;} td:nth-child(2) {text-align: left ; width: 100%}\n",
              "    .wandb-row { display: flex; flex-direction: row; flex-wrap: wrap; justify-content: flex-start; width: 100% }\n",
              "    .wandb-col { display: flex; flex-direction: column; flex-basis: 100%; flex: 1; padding: 10px; }\n",
              "    </style>\n",
              "<div class=\"wandb-row\"><div class=\"wandb-col\"><h3>Run history:</h3><br/><table class=\"wandb\"><tr><td>lr/pg0</td><td>▃▄▆███▇▇▇▇▇▇▆▆▆▆▆▅▅▅▅▅▄▄▄▄▄▃▃▃▃▃▃▂▂▂▂▂▁▁</td></tr><tr><td>lr/pg1</td><td>▃▄▆███▇▇▇▇▇▆▆▆▆▆▅▅▅▅▅▅▄▄▄▄▄▃▃▃▃▃▃▂▂▂▂▂▁▁</td></tr><tr><td>lr/pg2</td><td>▃▄▆██▇▇▇▇▇▇▆▆▆▆▅▅▅▅▅▅▄▄▄▄▄▃▃▃▃▃▃▂▂▂▂▂▁▁▁</td></tr><tr><td>metrics/mAP50(B)</td><td>▄▃▁▁▁▅▆▇▆▇▆█████████████████████████████</td></tr><tr><td>metrics/mAP50-95(B)</td><td>▃▃▂▁▁▄▃▅▄▅▅▆▇▇▇▇▇▇▇▇▇▇█▇▇▇▇▇▇███████████</td></tr><tr><td>metrics/precision(B)</td><td>▄▄▃▁▁▆▅▅▇▆▆▆▇███▇██▇████████▇███████▇▇██</td></tr><tr><td>metrics/recall(B)</td><td>▄▂▄▂▁▆▄▅▆▅▆▇▇▇██▇██▇▇████▇▇█████████████</td></tr><tr><td>model/GFLOPs</td><td>▁</td></tr><tr><td>model/parameters</td><td>▁</td></tr><tr><td>model/speed_PyTorch(ms)</td><td>▁</td></tr><tr><td>train/box_loss</td><td>▅▆▇▇█▇▇▇▆▆▆▆▆▆▅▅▅▅▄▅▄▅▄▄▄▄▄▄▄▄▃▃▂▂▁▁▁▁▁▁</td></tr><tr><td>train/cls_loss</td><td>█▅▅▅▅▄▄▄▄▄▄▃▃▃▃▃▃▃▃▃▃▃▃▂▂▂▂▂▂▂▂▂▂▁▁▁▁▁▁▁</td></tr><tr><td>train/dfl_loss</td><td>▆▇▇██▇▇▇▆▆▆▆▆▆▅▅▅▅▄▄▄▅▄▄▄▄▃▄▃▄▃▃▂▂▂▁▁▁▁▁</td></tr><tr><td>val/box_loss</td><td>▄▃▄▆█▃▂▃▃▂▂▂▂▂▂▂▂▂▂▂▂▁▁▁▁▁▁▁▁▁▁▁▁▁▁▁▁▁▁▁</td></tr><tr><td>val/cls_loss</td><td>▂▄▇█▆▂▂▁▁▁▁▁▁▁▁▁▁▁▁▁▁▁▁▁▁▁▁▁▁▁▁▁▁▁▁▁▁▁▁▁</td></tr><tr><td>val/dfl_loss</td><td>▃▅▇██▃▂▃▃▂▂▂▂▂▂▂▂▁▂▂▁▂▁▁▁▂▁▁▁▁▁▁▁▁▁▁▁▁▁▁</td></tr></table><br/></div><div class=\"wandb-col\"><h3>Run summary:</h3><br/><table class=\"wandb\"><tr><td>lr/pg0</td><td>6e-05</td></tr><tr><td>lr/pg1</td><td>6e-05</td></tr><tr><td>lr/pg2</td><td>6e-05</td></tr><tr><td>metrics/mAP50(B)</td><td>0.95999</td></tr><tr><td>metrics/mAP50-95(B)</td><td>0.85445</td></tr><tr><td>metrics/precision(B)</td><td>0.86564</td></tr><tr><td>metrics/recall(B)</td><td>0.95575</td></tr><tr><td>model/GFLOPs</td><td>28.647</td></tr><tr><td>model/parameters</td><td>11135987</td></tr><tr><td>model/speed_PyTorch(ms)</td><td>7.428</td></tr><tr><td>train/box_loss</td><td>0.38678</td></tr><tr><td>train/cls_loss</td><td>0.30462</td></tr><tr><td>train/dfl_loss</td><td>1.02612</td></tr><tr><td>val/box_loss</td><td>0.51389</td></tr><tr><td>val/cls_loss</td><td>0.40762</td></tr><tr><td>val/dfl_loss</td><td>1.07405</td></tr></table><br/></div></div>"
            ]
          },
          "metadata": {}
        },
        {
          "output_type": "display_data",
          "data": {
            "text/plain": [
              "<IPython.core.display.HTML object>"
            ],
            "text/html": [
              " View run <strong style=\"color:#cdcd00\">train4</strong> at: <a href='https://wandb.ai/kmzavyalova-hse/Ultralytics/runs/lytaxpro' target=\"_blank\">https://wandb.ai/kmzavyalova-hse/Ultralytics/runs/lytaxpro</a><br/> View project at: <a href='https://wandb.ai/kmzavyalova-hse/Ultralytics' target=\"_blank\">https://wandb.ai/kmzavyalova-hse/Ultralytics</a><br/>Synced 5 W&B file(s), 0 media file(s), 10 artifact file(s) and 24 other file(s)"
            ]
          },
          "metadata": {}
        },
        {
          "output_type": "display_data",
          "data": {
            "text/plain": [
              "<IPython.core.display.HTML object>"
            ],
            "text/html": [
              "Find logs at: <code>./wandb/run-20241024_134327-lytaxpro/logs</code>"
            ]
          },
          "metadata": {}
        },
        {
          "output_type": "execute_result",
          "data": {
            "text/plain": [
              "ultralytics.utils.metrics.DetMetrics object with attributes:\n",
              "\n",
              "ap_class_index: array([0])\n",
              "box: ultralytics.utils.metrics.Metric object\n",
              "confusion_matrix: <ultralytics.utils.metrics.ConfusionMatrix object at 0x792af67809a0>\n",
              "curves: ['Precision-Recall(B)', 'F1-Confidence(B)', 'Precision-Confidence(B)', 'Recall-Confidence(B)']\n",
              "curves_results: [[array([          0,    0.001001,    0.002002,    0.003003,    0.004004,    0.005005,    0.006006,    0.007007,    0.008008,    0.009009,     0.01001,    0.011011,    0.012012,    0.013013,    0.014014,    0.015015,    0.016016,    0.017017,    0.018018,    0.019019,     0.02002,    0.021021,    0.022022,    0.023023,\n",
              "          0.024024,    0.025025,    0.026026,    0.027027,    0.028028,    0.029029,     0.03003,    0.031031,    0.032032,    0.033033,    0.034034,    0.035035,    0.036036,    0.037037,    0.038038,    0.039039,     0.04004,    0.041041,    0.042042,    0.043043,    0.044044,    0.045045,    0.046046,    0.047047,\n",
              "          0.048048,    0.049049,     0.05005,    0.051051,    0.052052,    0.053053,    0.054054,    0.055055,    0.056056,    0.057057,    0.058058,    0.059059,     0.06006,    0.061061,    0.062062,    0.063063,    0.064064,    0.065065,    0.066066,    0.067067,    0.068068,    0.069069,     0.07007,    0.071071,\n",
              "          0.072072,    0.073073,    0.074074,    0.075075,    0.076076,    0.077077,    0.078078,    0.079079,     0.08008,    0.081081,    0.082082,    0.083083,    0.084084,    0.085085,    0.086086,    0.087087,    0.088088,    0.089089,     0.09009,    0.091091,    0.092092,    0.093093,    0.094094,    0.095095,\n",
              "          0.096096,    0.097097,    0.098098,    0.099099,      0.1001,      0.1011,      0.1021,      0.1031,      0.1041,     0.10511,     0.10611,     0.10711,     0.10811,     0.10911,     0.11011,     0.11111,     0.11211,     0.11311,     0.11411,     0.11512,     0.11612,     0.11712,     0.11812,     0.11912,\n",
              "           0.12012,     0.12112,     0.12212,     0.12312,     0.12412,     0.12513,     0.12613,     0.12713,     0.12813,     0.12913,     0.13013,     0.13113,     0.13213,     0.13313,     0.13413,     0.13514,     0.13614,     0.13714,     0.13814,     0.13914,     0.14014,     0.14114,     0.14214,     0.14314,\n",
              "           0.14414,     0.14515,     0.14615,     0.14715,     0.14815,     0.14915,     0.15015,     0.15115,     0.15215,     0.15315,     0.15415,     0.15516,     0.15616,     0.15716,     0.15816,     0.15916,     0.16016,     0.16116,     0.16216,     0.16316,     0.16416,     0.16517,     0.16617,     0.16717,\n",
              "           0.16817,     0.16917,     0.17017,     0.17117,     0.17217,     0.17317,     0.17417,     0.17518,     0.17618,     0.17718,     0.17818,     0.17918,     0.18018,     0.18118,     0.18218,     0.18318,     0.18418,     0.18519,     0.18619,     0.18719,     0.18819,     0.18919,     0.19019,     0.19119,\n",
              "           0.19219,     0.19319,     0.19419,      0.1952,      0.1962,      0.1972,      0.1982,      0.1992,      0.2002,      0.2012,      0.2022,      0.2032,      0.2042,     0.20521,     0.20621,     0.20721,     0.20821,     0.20921,     0.21021,     0.21121,     0.21221,     0.21321,     0.21421,     0.21522,\n",
              "           0.21622,     0.21722,     0.21822,     0.21922,     0.22022,     0.22122,     0.22222,     0.22322,     0.22422,     0.22523,     0.22623,     0.22723,     0.22823,     0.22923,     0.23023,     0.23123,     0.23223,     0.23323,     0.23423,     0.23524,     0.23624,     0.23724,     0.23824,     0.23924,\n",
              "           0.24024,     0.24124,     0.24224,     0.24324,     0.24424,     0.24525,     0.24625,     0.24725,     0.24825,     0.24925,     0.25025,     0.25125,     0.25225,     0.25325,     0.25425,     0.25526,     0.25626,     0.25726,     0.25826,     0.25926,     0.26026,     0.26126,     0.26226,     0.26326,\n",
              "           0.26426,     0.26527,     0.26627,     0.26727,     0.26827,     0.26927,     0.27027,     0.27127,     0.27227,     0.27327,     0.27427,     0.27528,     0.27628,     0.27728,     0.27828,     0.27928,     0.28028,     0.28128,     0.28228,     0.28328,     0.28428,     0.28529,     0.28629,     0.28729,\n",
              "           0.28829,     0.28929,     0.29029,     0.29129,     0.29229,     0.29329,     0.29429,      0.2953,      0.2963,      0.2973,      0.2983,      0.2993,      0.3003,      0.3013,      0.3023,      0.3033,      0.3043,     0.30531,     0.30631,     0.30731,     0.30831,     0.30931,     0.31031,     0.31131,\n",
              "           0.31231,     0.31331,     0.31431,     0.31532,     0.31632,     0.31732,     0.31832,     0.31932,     0.32032,     0.32132,     0.32232,     0.32332,     0.32432,     0.32533,     0.32633,     0.32733,     0.32833,     0.32933,     0.33033,     0.33133,     0.33233,     0.33333,     0.33433,     0.33534,\n",
              "           0.33634,     0.33734,     0.33834,     0.33934,     0.34034,     0.34134,     0.34234,     0.34334,     0.34434,     0.34535,     0.34635,     0.34735,     0.34835,     0.34935,     0.35035,     0.35135,     0.35235,     0.35335,     0.35435,     0.35536,     0.35636,     0.35736,     0.35836,     0.35936,\n",
              "           0.36036,     0.36136,     0.36236,     0.36336,     0.36436,     0.36537,     0.36637,     0.36737,     0.36837,     0.36937,     0.37037,     0.37137,     0.37237,     0.37337,     0.37437,     0.37538,     0.37638,     0.37738,     0.37838,     0.37938,     0.38038,     0.38138,     0.38238,     0.38338,\n",
              "           0.38438,     0.38539,     0.38639,     0.38739,     0.38839,     0.38939,     0.39039,     0.39139,     0.39239,     0.39339,     0.39439,      0.3954,      0.3964,      0.3974,      0.3984,      0.3994,      0.4004,      0.4014,      0.4024,      0.4034,      0.4044,     0.40541,     0.40641,     0.40741,\n",
              "           0.40841,     0.40941,     0.41041,     0.41141,     0.41241,     0.41341,     0.41441,     0.41542,     0.41642,     0.41742,     0.41842,     0.41942,     0.42042,     0.42142,     0.42242,     0.42342,     0.42442,     0.42543,     0.42643,     0.42743,     0.42843,     0.42943,     0.43043,     0.43143,\n",
              "           0.43243,     0.43343,     0.43443,     0.43544,     0.43644,     0.43744,     0.43844,     0.43944,     0.44044,     0.44144,     0.44244,     0.44344,     0.44444,     0.44545,     0.44645,     0.44745,     0.44845,     0.44945,     0.45045,     0.45145,     0.45245,     0.45345,     0.45445,     0.45546,\n",
              "           0.45646,     0.45746,     0.45846,     0.45946,     0.46046,     0.46146,     0.46246,     0.46346,     0.46446,     0.46547,     0.46647,     0.46747,     0.46847,     0.46947,     0.47047,     0.47147,     0.47247,     0.47347,     0.47447,     0.47548,     0.47648,     0.47748,     0.47848,     0.47948,\n",
              "           0.48048,     0.48148,     0.48248,     0.48348,     0.48448,     0.48549,     0.48649,     0.48749,     0.48849,     0.48949,     0.49049,     0.49149,     0.49249,     0.49349,     0.49449,      0.4955,      0.4965,      0.4975,      0.4985,      0.4995,      0.5005,      0.5015,      0.5025,      0.5035,\n",
              "            0.5045,     0.50551,     0.50651,     0.50751,     0.50851,     0.50951,     0.51051,     0.51151,     0.51251,     0.51351,     0.51451,     0.51552,     0.51652,     0.51752,     0.51852,     0.51952,     0.52052,     0.52152,     0.52252,     0.52352,     0.52452,     0.52553,     0.52653,     0.52753,\n",
              "           0.52853,     0.52953,     0.53053,     0.53153,     0.53253,     0.53353,     0.53453,     0.53554,     0.53654,     0.53754,     0.53854,     0.53954,     0.54054,     0.54154,     0.54254,     0.54354,     0.54454,     0.54555,     0.54655,     0.54755,     0.54855,     0.54955,     0.55055,     0.55155,\n",
              "           0.55255,     0.55355,     0.55455,     0.55556,     0.55656,     0.55756,     0.55856,     0.55956,     0.56056,     0.56156,     0.56256,     0.56356,     0.56456,     0.56557,     0.56657,     0.56757,     0.56857,     0.56957,     0.57057,     0.57157,     0.57257,     0.57357,     0.57457,     0.57558,\n",
              "           0.57658,     0.57758,     0.57858,     0.57958,     0.58058,     0.58158,     0.58258,     0.58358,     0.58458,     0.58559,     0.58659,     0.58759,     0.58859,     0.58959,     0.59059,     0.59159,     0.59259,     0.59359,     0.59459,      0.5956,      0.5966,      0.5976,      0.5986,      0.5996,\n",
              "            0.6006,      0.6016,      0.6026,      0.6036,      0.6046,     0.60561,     0.60661,     0.60761,     0.60861,     0.60961,     0.61061,     0.61161,     0.61261,     0.61361,     0.61461,     0.61562,     0.61662,     0.61762,     0.61862,     0.61962,     0.62062,     0.62162,     0.62262,     0.62362,\n",
              "           0.62462,     0.62563,     0.62663,     0.62763,     0.62863,     0.62963,     0.63063,     0.63163,     0.63263,     0.63363,     0.63463,     0.63564,     0.63664,     0.63764,     0.63864,     0.63964,     0.64064,     0.64164,     0.64264,     0.64364,     0.64464,     0.64565,     0.64665,     0.64765,\n",
              "           0.64865,     0.64965,     0.65065,     0.65165,     0.65265,     0.65365,     0.65465,     0.65566,     0.65666,     0.65766,     0.65866,     0.65966,     0.66066,     0.66166,     0.66266,     0.66366,     0.66466,     0.66567,     0.66667,     0.66767,     0.66867,     0.66967,     0.67067,     0.67167,\n",
              "           0.67267,     0.67367,     0.67467,     0.67568,     0.67668,     0.67768,     0.67868,     0.67968,     0.68068,     0.68168,     0.68268,     0.68368,     0.68468,     0.68569,     0.68669,     0.68769,     0.68869,     0.68969,     0.69069,     0.69169,     0.69269,     0.69369,     0.69469,      0.6957,\n",
              "            0.6967,      0.6977,      0.6987,      0.6997,      0.7007,      0.7017,      0.7027,      0.7037,      0.7047,     0.70571,     0.70671,     0.70771,     0.70871,     0.70971,     0.71071,     0.71171,     0.71271,     0.71371,     0.71471,     0.71572,     0.71672,     0.71772,     0.71872,     0.71972,\n",
              "           0.72072,     0.72172,     0.72272,     0.72372,     0.72472,     0.72573,     0.72673,     0.72773,     0.72873,     0.72973,     0.73073,     0.73173,     0.73273,     0.73373,     0.73473,     0.73574,     0.73674,     0.73774,     0.73874,     0.73974,     0.74074,     0.74174,     0.74274,     0.74374,\n",
              "           0.74474,     0.74575,     0.74675,     0.74775,     0.74875,     0.74975,     0.75075,     0.75175,     0.75275,     0.75375,     0.75475,     0.75576,     0.75676,     0.75776,     0.75876,     0.75976,     0.76076,     0.76176,     0.76276,     0.76376,     0.76476,     0.76577,     0.76677,     0.76777,\n",
              "           0.76877,     0.76977,     0.77077,     0.77177,     0.77277,     0.77377,     0.77477,     0.77578,     0.77678,     0.77778,     0.77878,     0.77978,     0.78078,     0.78178,     0.78278,     0.78378,     0.78478,     0.78579,     0.78679,     0.78779,     0.78879,     0.78979,     0.79079,     0.79179,\n",
              "           0.79279,     0.79379,     0.79479,      0.7958,      0.7968,      0.7978,      0.7988,      0.7998,      0.8008,      0.8018,      0.8028,      0.8038,      0.8048,     0.80581,     0.80681,     0.80781,     0.80881,     0.80981,     0.81081,     0.81181,     0.81281,     0.81381,     0.81481,     0.81582,\n",
              "           0.81682,     0.81782,     0.81882,     0.81982,     0.82082,     0.82182,     0.82282,     0.82382,     0.82482,     0.82583,     0.82683,     0.82783,     0.82883,     0.82983,     0.83083,     0.83183,     0.83283,     0.83383,     0.83483,     0.83584,     0.83684,     0.83784,     0.83884,     0.83984,\n",
              "           0.84084,     0.84184,     0.84284,     0.84384,     0.84484,     0.84585,     0.84685,     0.84785,     0.84885,     0.84985,     0.85085,     0.85185,     0.85285,     0.85385,     0.85485,     0.85586,     0.85686,     0.85786,     0.85886,     0.85986,     0.86086,     0.86186,     0.86286,     0.86386,\n",
              "           0.86486,     0.86587,     0.86687,     0.86787,     0.86887,     0.86987,     0.87087,     0.87187,     0.87287,     0.87387,     0.87487,     0.87588,     0.87688,     0.87788,     0.87888,     0.87988,     0.88088,     0.88188,     0.88288,     0.88388,     0.88488,     0.88589,     0.88689,     0.88789,\n",
              "           0.88889,     0.88989,     0.89089,     0.89189,     0.89289,     0.89389,     0.89489,      0.8959,      0.8969,      0.8979,      0.8989,      0.8999,      0.9009,      0.9019,      0.9029,      0.9039,      0.9049,     0.90591,     0.90691,     0.90791,     0.90891,     0.90991,     0.91091,     0.91191,\n",
              "           0.91291,     0.91391,     0.91491,     0.91592,     0.91692,     0.91792,     0.91892,     0.91992,     0.92092,     0.92192,     0.92292,     0.92392,     0.92492,     0.92593,     0.92693,     0.92793,     0.92893,     0.92993,     0.93093,     0.93193,     0.93293,     0.93393,     0.93493,     0.93594,\n",
              "           0.93694,     0.93794,     0.93894,     0.93994,     0.94094,     0.94194,     0.94294,     0.94394,     0.94494,     0.94595,     0.94695,     0.94795,     0.94895,     0.94995,     0.95095,     0.95195,     0.95295,     0.95395,     0.95495,     0.95596,     0.95696,     0.95796,     0.95896,     0.95996,\n",
              "           0.96096,     0.96196,     0.96296,     0.96396,     0.96496,     0.96597,     0.96697,     0.96797,     0.96897,     0.96997,     0.97097,     0.97197,     0.97297,     0.97397,     0.97497,     0.97598,     0.97698,     0.97798,     0.97898,     0.97998,     0.98098,     0.98198,     0.98298,     0.98398,\n",
              "           0.98498,     0.98599,     0.98699,     0.98799,     0.98899,     0.98999,     0.99099,     0.99199,     0.99299,     0.99399,     0.99499,       0.996,       0.997,       0.998,       0.999,           1]), array([[          1,           1,           1,           1,           1,           1,           1,           1,           1,           1,           1,           1,           1,           1,           1,           1,           1,           1,           1,           1,           1,           1,           1,\n",
              "                  1,           1,           1,           1,           1,           1,           1,           1,           1,           1,           1,           1,           1,           1,           1,           1,           1,           1,           1,           1,           1,           1,           1,\n",
              "                  1,           1,           1,           1,           1,           1,           1,           1,           1,           1,           1,           1,           1,           1,           1,           1,           1,           1,           1,           1,           1,           1,           1,\n",
              "                  1,           1,           1,           1,           1,           1,           1,           1,           1,           1,           1,           1,           1,           1,           1,           1,           1,           1,           1,           1,           1,           1,           1,\n",
              "                  1,           1,           1,           1,           1,           1,           1,           1,           1,           1,           1,           1,           1,           1,           1,           1,           1,           1,           1,           1,           1,           1,           1,\n",
              "                  1,           1,           1,           1,           1,           1,           1,           1,           1,           1,           1,           1,           1,           1,           1,           1,           1,           1,           1,           1,           1,           1,           1,\n",
              "                  1,           1,           1,           1,           1,           1,           1,           1,           1,           1,           1,           1,           1,           1,           1,           1,           1,           1,           1,           1,           1,           1,           1,\n",
              "                  1,           1,           1,           1,           1,           1,           1,           1,           1,           1,           1,           1,           1,           1,           1,           1,           1,           1,           1,           1,           1,           1,           1,\n",
              "                  1,           1,           1,           1,           1,           1,           1,           1,           1,           1,           1,           1,           1,           1,           1,           1,           1,           1,           1,           1,           1,           1,           1,\n",
              "                  1,           1,           1,           1,           1,           1,           1,           1,           1,           1,           1,           1,           1,           1,           1,           1,           1,           1,           1,           1,           1,           1,           1,\n",
              "                  1,           1,           1,           1,           1,           1,           1,           1,           1,           1,           1,           1,           1,           1,           1,           1,           1,           1,           1,           1,           1,           1,           1,\n",
              "                  1,           1,           1,           1,           1,           1,           1,           1,           1,           1,           1,           1,           1,           1,           1,           1,           1,           1,           1,           1,           1,           1,           1,\n",
              "                  1,           1,           1,           1,           1,           1,           1,           1,           1,           1,           1,           1,           1,           1,           1,           1,           1,           1,           1,           1,           1,           1,           1,\n",
              "                  1,           1,           1,           1,           1,           1,           1,           1,           1,           1,           1,           1,           1,           1,           1,           1,           1,           1,           1,           1,           1,           1,           1,\n",
              "                  1,           1,           1,           1,           1,           1,           1,           1,           1,           1,           1,           1,           1,           1,           1,           1,           1,           1,           1,           1,           1,           1,           1,\n",
              "                  1,           1,           1,           1,           1,           1,           1,           1,           1,           1,           1,           1,           1,           1,           1,           1,           1,           1,           1,           1,           1,           1,           1,\n",
              "                  1,           1,           1,           1,           1,           1,           1,           1,           1,           1,           1,           1,           1,           1,           1,           1,           1,           1,           1,           1,           1,     0.98611,     0.98611,\n",
              "            0.98611,     0.98611,     0.98611,     0.98611,     0.98611,     0.98611,     0.98611,     0.98611,     0.98611,     0.98611,     0.98611,     0.98611,     0.98611,     0.98611,     0.98611,     0.98611,     0.98611,     0.98611,     0.98611,     0.98611,     0.98611,     0.98611,     0.98611,\n",
              "            0.98611,     0.98611,     0.98611,     0.98611,     0.98611,     0.98611,     0.98611,     0.98611,     0.98611,     0.98611,     0.98611,     0.98611,     0.98611,     0.98611,     0.98611,     0.98611,     0.98611,     0.98611,     0.98611,     0.98611,     0.98611,     0.98611,     0.98611,\n",
              "            0.98611,     0.98611,     0.98611,     0.98611,     0.98611,     0.98611,     0.98611,     0.98611,     0.98611,     0.98611,     0.98611,     0.98611,     0.98611,     0.98611,     0.98611,     0.98611,     0.98611,     0.98611,     0.98611,     0.98611,     0.98611,     0.98611,     0.98611,\n",
              "            0.98611,     0.98611,     0.98611,     0.98611,     0.98611,     0.98611,     0.98611,     0.98611,     0.98611,     0.98611,     0.98611,     0.98611,     0.98611,     0.98611,     0.98611,     0.98611,     0.98611,     0.98611,     0.98611,     0.98611,     0.98611,     0.98611,     0.98611,\n",
              "            0.98611,     0.98611,     0.98611,     0.98611,     0.98611,     0.98611,     0.98611,     0.98611,     0.98611,     0.98611,     0.98611,     0.98611,     0.98611,     0.98611,     0.98611,     0.98611,     0.98611,     0.98611,     0.98611,     0.98611,     0.98611,     0.98611,     0.98611,\n",
              "            0.98611,     0.98611,     0.98611,     0.98611,     0.98611,     0.98611,     0.98611,     0.98611,     0.98611,     0.98611,     0.98611,     0.98611,     0.98611,     0.98611,     0.98611,     0.98611,     0.98611,     0.98611,     0.98611,     0.98611,     0.98611,     0.98611,     0.98611,\n",
              "            0.98611,     0.98611,     0.98611,     0.98611,     0.98611,     0.98611,     0.98611,     0.98611,     0.98611,     0.98611,     0.98611,     0.98611,     0.98611,     0.98611,     0.98611,     0.98611,     0.98611,     0.98611,     0.98611,     0.98611,     0.98611,     0.98611,     0.98611,\n",
              "            0.98611,     0.98611,     0.98611,     0.98611,     0.98611,     0.98611,     0.98611,     0.98611,     0.98611,     0.98611,     0.98611,     0.98611,     0.98611,     0.98611,     0.98611,     0.98611,     0.98611,     0.98611,     0.98611,     0.98611,     0.98611,     0.98611,     0.98611,\n",
              "            0.98611,     0.98611,     0.98611,     0.98611,     0.98611,     0.98611,     0.98611,     0.98611,     0.98611,     0.98611,     0.98611,     0.98611,     0.98611,     0.98611,     0.98611,     0.98611,     0.98611,     0.98611,     0.98611,     0.98611,     0.98611,     0.98611,     0.98611,\n",
              "            0.98611,     0.98611,     0.98611,     0.98611,     0.98611,     0.98611,     0.98611,     0.98611,     0.98611,     0.98611,     0.98611,     0.98611,     0.98611,     0.98611,     0.98611,     0.98611,     0.98611,     0.98611,     0.98611,     0.98611,     0.98611,     0.98611,     0.98611,\n",
              "            0.98611,     0.98611,     0.98611,     0.98611,     0.98611,     0.98611,     0.98611,     0.97368,     0.97368,     0.97368,     0.97368,     0.97368,     0.97368,     0.97368,     0.97368,     0.97368,     0.97368,     0.97368,     0.97368,     0.97368,     0.97368,     0.97368,     0.97368,\n",
              "            0.97368,     0.97368,     0.97368,     0.97368,     0.97368,     0.97368,     0.97368,     0.97368,     0.97368,     0.97368,     0.97368,     0.96341,     0.96341,     0.96341,     0.96341,     0.96341,     0.96341,     0.96341,     0.96341,     0.96341,     0.96341,     0.96341,     0.96341,\n",
              "            0.96341,     0.96341,     0.96341,     0.96341,     0.96341,     0.96341,     0.96341,     0.96341,     0.96341,     0.96341,     0.96341,     0.96341,     0.96341,     0.96341,     0.96341,     0.96341,     0.96341,     0.96341,     0.96341,     0.96341,     0.96341,     0.96341,     0.96341,\n",
              "            0.96341,     0.96341,     0.96341,     0.96341,     0.96341,     0.96341,     0.96341,     0.96341,     0.96341,     0.95238,     0.95238,     0.95238,     0.95238,     0.95238,     0.95238,     0.95238,     0.95238,     0.95238,     0.94253,     0.94253,     0.94253,     0.94253,     0.94253,\n",
              "            0.94253,     0.94253,     0.94253,     0.94253,     0.94253,     0.94253,     0.94253,     0.94253,     0.94253,     0.94253,     0.94253,     0.94253,     0.93069,     0.93069,     0.93069,     0.93069,     0.93069,     0.93069,     0.93069,     0.93069,     0.93069,     0.93069,     0.93069,\n",
              "            0.93069,     0.93069,     0.93069,     0.93069,     0.93069,     0.93069,     0.93069,     0.93069,     0.93069,     0.93069,     0.93069,     0.93069,     0.93069,     0.93069,     0.93069,     0.93069,     0.93069,     0.93069,     0.93069,     0.93069,     0.93069,     0.93069,     0.93069,\n",
              "            0.93069,     0.93069,     0.93069,     0.93069,     0.93069,     0.93069,     0.93069,     0.93069,     0.93069,     0.93069,     0.93069,     0.93069,     0.93069,     0.93069,     0.93069,     0.93069,     0.93069,     0.93069,     0.93069,     0.93069,     0.93069,     0.93069,     0.93069,\n",
              "            0.93069,     0.93069,     0.93069,     0.93069,     0.93069,     0.93069,     0.93069,     0.93069,     0.93069,     0.93069,     0.93069,     0.93069,     0.93069,     0.93069,     0.93069,     0.93069,     0.93069,     0.93069,     0.93069,     0.93069,     0.93069,     0.93069,     0.93069,\n",
              "            0.93069,     0.93069,     0.93069,     0.93069,     0.93069,     0.93069,     0.93069,     0.93069,     0.93069,     0.93069,     0.93069,     0.93069,     0.93069,     0.93069,     0.93069,     0.93069,     0.93069,     0.93069,     0.93069,     0.93069,     0.93069,     0.93069,     0.93069,\n",
              "            0.93069,     0.93069,     0.93069,     0.93069,     0.92233,     0.92233,     0.92233,     0.92233,     0.92233,     0.92233,     0.92233,     0.92233,     0.91667,     0.91667,     0.91667,     0.91667,     0.91667,     0.91667,     0.91667,     0.91667,     0.91667,     0.91667,     0.91667,\n",
              "            0.91667,     0.91667,     0.91667,     0.91667,     0.91667,     0.91667,     0.91667,     0.91667,     0.91667,     0.91667,     0.91667,     0.91667,     0.91667,     0.91667,     0.91667,     0.91667,     0.91667,     0.91667,     0.91667,     0.91667,     0.91667,     0.91667,     0.91667,\n",
              "            0.91667,     0.91667,     0.90991,     0.90991,     0.90991,     0.90991,     0.90991,     0.90991,     0.90991,     0.90991,     0.90991,     0.90991,     0.90991,     0.90991,     0.90991,     0.90991,     0.90991,     0.90991,     0.90991,     0.89655,     0.89655,     0.89655,     0.89655,\n",
              "            0.89655,     0.89655,     0.89655,     0.89655,     0.89655,     0.89655,     0.89655,     0.89655,     0.89655,     0.89655,     0.89655,     0.89655,     0.89655,     0.89655,     0.89655,     0.89655,     0.89655,     0.89655,     0.89655,     0.89655,     0.89655,     0.89655,     0.89655,\n",
              "            0.87805,     0.87805,     0.87805,     0.87805,     0.87805,     0.87805,     0.87805,     0.87805,     0.87805,     0.87805,     0.87805,     0.87805,     0.87805,     0.87805,     0.87805,     0.87805,     0.87805,     0.87805,     0.87805,     0.87805,     0.87805,     0.87805,     0.87805,\n",
              "            0.87805,     0.87805,     0.87805,     0.87805,     0.87805,     0.87805,     0.87805,     0.87805,     0.87805,     0.87805,     0.87805,     0.87805,     0.85827,     0.85827,     0.85827,     0.85827,     0.85827,     0.85827,     0.85827,     0.85827,     0.85827,     0.81481,     0.81481,\n",
              "            0.81481,     0.81481,     0.81481,     0.81481,     0.81481,     0.81481,     0.81481,     0.77083,     0.77083,     0.77083,     0.77083,     0.77083,     0.77083,     0.77083,     0.77083,     0.77083,     0.72258,     0.72258,     0.72258,     0.72258,     0.72258,     0.72258,     0.72258,\n",
              "            0.72258,     0.72258,     0.29207,     0.25556,     0.21905,     0.18255,     0.14604,     0.10953,    0.073018,    0.036509,           0]]), 'Recall', 'Precision'], [array([          0,    0.001001,    0.002002,    0.003003,    0.004004,    0.005005,    0.006006,    0.007007,    0.008008,    0.009009,     0.01001,    0.011011,    0.012012,    0.013013,    0.014014,    0.015015,    0.016016,    0.017017,    0.018018,    0.019019,     0.02002,    0.021021,    0.022022,    0.023023,\n",
              "          0.024024,    0.025025,    0.026026,    0.027027,    0.028028,    0.029029,     0.03003,    0.031031,    0.032032,    0.033033,    0.034034,    0.035035,    0.036036,    0.037037,    0.038038,    0.039039,     0.04004,    0.041041,    0.042042,    0.043043,    0.044044,    0.045045,    0.046046,    0.047047,\n",
              "          0.048048,    0.049049,     0.05005,    0.051051,    0.052052,    0.053053,    0.054054,    0.055055,    0.056056,    0.057057,    0.058058,    0.059059,     0.06006,    0.061061,    0.062062,    0.063063,    0.064064,    0.065065,    0.066066,    0.067067,    0.068068,    0.069069,     0.07007,    0.071071,\n",
              "          0.072072,    0.073073,    0.074074,    0.075075,    0.076076,    0.077077,    0.078078,    0.079079,     0.08008,    0.081081,    0.082082,    0.083083,    0.084084,    0.085085,    0.086086,    0.087087,    0.088088,    0.089089,     0.09009,    0.091091,    0.092092,    0.093093,    0.094094,    0.095095,\n",
              "          0.096096,    0.097097,    0.098098,    0.099099,      0.1001,      0.1011,      0.1021,      0.1031,      0.1041,     0.10511,     0.10611,     0.10711,     0.10811,     0.10911,     0.11011,     0.11111,     0.11211,     0.11311,     0.11411,     0.11512,     0.11612,     0.11712,     0.11812,     0.11912,\n",
              "           0.12012,     0.12112,     0.12212,     0.12312,     0.12412,     0.12513,     0.12613,     0.12713,     0.12813,     0.12913,     0.13013,     0.13113,     0.13213,     0.13313,     0.13413,     0.13514,     0.13614,     0.13714,     0.13814,     0.13914,     0.14014,     0.14114,     0.14214,     0.14314,\n",
              "           0.14414,     0.14515,     0.14615,     0.14715,     0.14815,     0.14915,     0.15015,     0.15115,     0.15215,     0.15315,     0.15415,     0.15516,     0.15616,     0.15716,     0.15816,     0.15916,     0.16016,     0.16116,     0.16216,     0.16316,     0.16416,     0.16517,     0.16617,     0.16717,\n",
              "           0.16817,     0.16917,     0.17017,     0.17117,     0.17217,     0.17317,     0.17417,     0.17518,     0.17618,     0.17718,     0.17818,     0.17918,     0.18018,     0.18118,     0.18218,     0.18318,     0.18418,     0.18519,     0.18619,     0.18719,     0.18819,     0.18919,     0.19019,     0.19119,\n",
              "           0.19219,     0.19319,     0.19419,      0.1952,      0.1962,      0.1972,      0.1982,      0.1992,      0.2002,      0.2012,      0.2022,      0.2032,      0.2042,     0.20521,     0.20621,     0.20721,     0.20821,     0.20921,     0.21021,     0.21121,     0.21221,     0.21321,     0.21421,     0.21522,\n",
              "           0.21622,     0.21722,     0.21822,     0.21922,     0.22022,     0.22122,     0.22222,     0.22322,     0.22422,     0.22523,     0.22623,     0.22723,     0.22823,     0.22923,     0.23023,     0.23123,     0.23223,     0.23323,     0.23423,     0.23524,     0.23624,     0.23724,     0.23824,     0.23924,\n",
              "           0.24024,     0.24124,     0.24224,     0.24324,     0.24424,     0.24525,     0.24625,     0.24725,     0.24825,     0.24925,     0.25025,     0.25125,     0.25225,     0.25325,     0.25425,     0.25526,     0.25626,     0.25726,     0.25826,     0.25926,     0.26026,     0.26126,     0.26226,     0.26326,\n",
              "           0.26426,     0.26527,     0.26627,     0.26727,     0.26827,     0.26927,     0.27027,     0.27127,     0.27227,     0.27327,     0.27427,     0.27528,     0.27628,     0.27728,     0.27828,     0.27928,     0.28028,     0.28128,     0.28228,     0.28328,     0.28428,     0.28529,     0.28629,     0.28729,\n",
              "           0.28829,     0.28929,     0.29029,     0.29129,     0.29229,     0.29329,     0.29429,      0.2953,      0.2963,      0.2973,      0.2983,      0.2993,      0.3003,      0.3013,      0.3023,      0.3033,      0.3043,     0.30531,     0.30631,     0.30731,     0.30831,     0.30931,     0.31031,     0.31131,\n",
              "           0.31231,     0.31331,     0.31431,     0.31532,     0.31632,     0.31732,     0.31832,     0.31932,     0.32032,     0.32132,     0.32232,     0.32332,     0.32432,     0.32533,     0.32633,     0.32733,     0.32833,     0.32933,     0.33033,     0.33133,     0.33233,     0.33333,     0.33433,     0.33534,\n",
              "           0.33634,     0.33734,     0.33834,     0.33934,     0.34034,     0.34134,     0.34234,     0.34334,     0.34434,     0.34535,     0.34635,     0.34735,     0.34835,     0.34935,     0.35035,     0.35135,     0.35235,     0.35335,     0.35435,     0.35536,     0.35636,     0.35736,     0.35836,     0.35936,\n",
              "           0.36036,     0.36136,     0.36236,     0.36336,     0.36436,     0.36537,     0.36637,     0.36737,     0.36837,     0.36937,     0.37037,     0.37137,     0.37237,     0.37337,     0.37437,     0.37538,     0.37638,     0.37738,     0.37838,     0.37938,     0.38038,     0.38138,     0.38238,     0.38338,\n",
              "           0.38438,     0.38539,     0.38639,     0.38739,     0.38839,     0.38939,     0.39039,     0.39139,     0.39239,     0.39339,     0.39439,      0.3954,      0.3964,      0.3974,      0.3984,      0.3994,      0.4004,      0.4014,      0.4024,      0.4034,      0.4044,     0.40541,     0.40641,     0.40741,\n",
              "           0.40841,     0.40941,     0.41041,     0.41141,     0.41241,     0.41341,     0.41441,     0.41542,     0.41642,     0.41742,     0.41842,     0.41942,     0.42042,     0.42142,     0.42242,     0.42342,     0.42442,     0.42543,     0.42643,     0.42743,     0.42843,     0.42943,     0.43043,     0.43143,\n",
              "           0.43243,     0.43343,     0.43443,     0.43544,     0.43644,     0.43744,     0.43844,     0.43944,     0.44044,     0.44144,     0.44244,     0.44344,     0.44444,     0.44545,     0.44645,     0.44745,     0.44845,     0.44945,     0.45045,     0.45145,     0.45245,     0.45345,     0.45445,     0.45546,\n",
              "           0.45646,     0.45746,     0.45846,     0.45946,     0.46046,     0.46146,     0.46246,     0.46346,     0.46446,     0.46547,     0.46647,     0.46747,     0.46847,     0.46947,     0.47047,     0.47147,     0.47247,     0.47347,     0.47447,     0.47548,     0.47648,     0.47748,     0.47848,     0.47948,\n",
              "           0.48048,     0.48148,     0.48248,     0.48348,     0.48448,     0.48549,     0.48649,     0.48749,     0.48849,     0.48949,     0.49049,     0.49149,     0.49249,     0.49349,     0.49449,      0.4955,      0.4965,      0.4975,      0.4985,      0.4995,      0.5005,      0.5015,      0.5025,      0.5035,\n",
              "            0.5045,     0.50551,     0.50651,     0.50751,     0.50851,     0.50951,     0.51051,     0.51151,     0.51251,     0.51351,     0.51451,     0.51552,     0.51652,     0.51752,     0.51852,     0.51952,     0.52052,     0.52152,     0.52252,     0.52352,     0.52452,     0.52553,     0.52653,     0.52753,\n",
              "           0.52853,     0.52953,     0.53053,     0.53153,     0.53253,     0.53353,     0.53453,     0.53554,     0.53654,     0.53754,     0.53854,     0.53954,     0.54054,     0.54154,     0.54254,     0.54354,     0.54454,     0.54555,     0.54655,     0.54755,     0.54855,     0.54955,     0.55055,     0.55155,\n",
              "           0.55255,     0.55355,     0.55455,     0.55556,     0.55656,     0.55756,     0.55856,     0.55956,     0.56056,     0.56156,     0.56256,     0.56356,     0.56456,     0.56557,     0.56657,     0.56757,     0.56857,     0.56957,     0.57057,     0.57157,     0.57257,     0.57357,     0.57457,     0.57558,\n",
              "           0.57658,     0.57758,     0.57858,     0.57958,     0.58058,     0.58158,     0.58258,     0.58358,     0.58458,     0.58559,     0.58659,     0.58759,     0.58859,     0.58959,     0.59059,     0.59159,     0.59259,     0.59359,     0.59459,      0.5956,      0.5966,      0.5976,      0.5986,      0.5996,\n",
              "            0.6006,      0.6016,      0.6026,      0.6036,      0.6046,     0.60561,     0.60661,     0.60761,     0.60861,     0.60961,     0.61061,     0.61161,     0.61261,     0.61361,     0.61461,     0.61562,     0.61662,     0.61762,     0.61862,     0.61962,     0.62062,     0.62162,     0.62262,     0.62362,\n",
              "           0.62462,     0.62563,     0.62663,     0.62763,     0.62863,     0.62963,     0.63063,     0.63163,     0.63263,     0.63363,     0.63463,     0.63564,     0.63664,     0.63764,     0.63864,     0.63964,     0.64064,     0.64164,     0.64264,     0.64364,     0.64464,     0.64565,     0.64665,     0.64765,\n",
              "           0.64865,     0.64965,     0.65065,     0.65165,     0.65265,     0.65365,     0.65465,     0.65566,     0.65666,     0.65766,     0.65866,     0.65966,     0.66066,     0.66166,     0.66266,     0.66366,     0.66466,     0.66567,     0.66667,     0.66767,     0.66867,     0.66967,     0.67067,     0.67167,\n",
              "           0.67267,     0.67367,     0.67467,     0.67568,     0.67668,     0.67768,     0.67868,     0.67968,     0.68068,     0.68168,     0.68268,     0.68368,     0.68468,     0.68569,     0.68669,     0.68769,     0.68869,     0.68969,     0.69069,     0.69169,     0.69269,     0.69369,     0.69469,      0.6957,\n",
              "            0.6967,      0.6977,      0.6987,      0.6997,      0.7007,      0.7017,      0.7027,      0.7037,      0.7047,     0.70571,     0.70671,     0.70771,     0.70871,     0.70971,     0.71071,     0.71171,     0.71271,     0.71371,     0.71471,     0.71572,     0.71672,     0.71772,     0.71872,     0.71972,\n",
              "           0.72072,     0.72172,     0.72272,     0.72372,     0.72472,     0.72573,     0.72673,     0.72773,     0.72873,     0.72973,     0.73073,     0.73173,     0.73273,     0.73373,     0.73473,     0.73574,     0.73674,     0.73774,     0.73874,     0.73974,     0.74074,     0.74174,     0.74274,     0.74374,\n",
              "           0.74474,     0.74575,     0.74675,     0.74775,     0.74875,     0.74975,     0.75075,     0.75175,     0.75275,     0.75375,     0.75475,     0.75576,     0.75676,     0.75776,     0.75876,     0.75976,     0.76076,     0.76176,     0.76276,     0.76376,     0.76476,     0.76577,     0.76677,     0.76777,\n",
              "           0.76877,     0.76977,     0.77077,     0.77177,     0.77277,     0.77377,     0.77477,     0.77578,     0.77678,     0.77778,     0.77878,     0.77978,     0.78078,     0.78178,     0.78278,     0.78378,     0.78478,     0.78579,     0.78679,     0.78779,     0.78879,     0.78979,     0.79079,     0.79179,\n",
              "           0.79279,     0.79379,     0.79479,      0.7958,      0.7968,      0.7978,      0.7988,      0.7998,      0.8008,      0.8018,      0.8028,      0.8038,      0.8048,     0.80581,     0.80681,     0.80781,     0.80881,     0.80981,     0.81081,     0.81181,     0.81281,     0.81381,     0.81481,     0.81582,\n",
              "           0.81682,     0.81782,     0.81882,     0.81982,     0.82082,     0.82182,     0.82282,     0.82382,     0.82482,     0.82583,     0.82683,     0.82783,     0.82883,     0.82983,     0.83083,     0.83183,     0.83283,     0.83383,     0.83483,     0.83584,     0.83684,     0.83784,     0.83884,     0.83984,\n",
              "           0.84084,     0.84184,     0.84284,     0.84384,     0.84484,     0.84585,     0.84685,     0.84785,     0.84885,     0.84985,     0.85085,     0.85185,     0.85285,     0.85385,     0.85485,     0.85586,     0.85686,     0.85786,     0.85886,     0.85986,     0.86086,     0.86186,     0.86286,     0.86386,\n",
              "           0.86486,     0.86587,     0.86687,     0.86787,     0.86887,     0.86987,     0.87087,     0.87187,     0.87287,     0.87387,     0.87487,     0.87588,     0.87688,     0.87788,     0.87888,     0.87988,     0.88088,     0.88188,     0.88288,     0.88388,     0.88488,     0.88589,     0.88689,     0.88789,\n",
              "           0.88889,     0.88989,     0.89089,     0.89189,     0.89289,     0.89389,     0.89489,      0.8959,      0.8969,      0.8979,      0.8989,      0.8999,      0.9009,      0.9019,      0.9029,      0.9039,      0.9049,     0.90591,     0.90691,     0.90791,     0.90891,     0.90991,     0.91091,     0.91191,\n",
              "           0.91291,     0.91391,     0.91491,     0.91592,     0.91692,     0.91792,     0.91892,     0.91992,     0.92092,     0.92192,     0.92292,     0.92392,     0.92492,     0.92593,     0.92693,     0.92793,     0.92893,     0.92993,     0.93093,     0.93193,     0.93293,     0.93393,     0.93493,     0.93594,\n",
              "           0.93694,     0.93794,     0.93894,     0.93994,     0.94094,     0.94194,     0.94294,     0.94394,     0.94494,     0.94595,     0.94695,     0.94795,     0.94895,     0.94995,     0.95095,     0.95195,     0.95295,     0.95395,     0.95495,     0.95596,     0.95696,     0.95796,     0.95896,     0.95996,\n",
              "           0.96096,     0.96196,     0.96296,     0.96396,     0.96496,     0.96597,     0.96697,     0.96797,     0.96897,     0.96997,     0.97097,     0.97197,     0.97297,     0.97397,     0.97497,     0.97598,     0.97698,     0.97798,     0.97898,     0.97998,     0.98098,     0.98198,     0.98298,     0.98398,\n",
              "           0.98498,     0.98599,     0.98699,     0.98799,     0.98899,     0.98999,     0.99099,     0.99199,     0.99299,     0.99399,     0.99499,       0.996,       0.997,       0.998,       0.999,           1]), array([[    0.48696,     0.48696,     0.60305,     0.66006,     0.68869,     0.71577,      0.7381,     0.74474,     0.75455,     0.76701,     0.77296,     0.77922,     0.78671,     0.79561,     0.80041,     0.80189,     0.80404,     0.80743,     0.81145,     0.81823,      0.8197,     0.82073,     0.82122,\n",
              "             0.8217,     0.82218,     0.82267,     0.82315,     0.82411,     0.82667,      0.8281,     0.82952,     0.83145,     0.83407,      0.8351,     0.83612,     0.83715,     0.83829,     0.83961,     0.84415,     0.84786,     0.85084,     0.85163,     0.85242,     0.85321,     0.85396,     0.85455,\n",
              "            0.85515,     0.85574,     0.85634,     0.85693,     0.85877,     0.86091,     0.86227,     0.86363,     0.85942,      0.8597,     0.85999,     0.86027,     0.86055,     0.86083,     0.86111,      0.8614,     0.86168,     0.86196,     0.86224,     0.86252,     0.86313,     0.86499,     0.86635,\n",
              "             0.8669,     0.86744,     0.86799,     0.86853,     0.86908,      0.8697,     0.87105,      0.8724,     0.87309,     0.87322,     0.87335,     0.87348,     0.87361,     0.87374,     0.87387,       0.874,     0.87413,     0.87426,     0.87439,     0.87452,     0.87466,     0.87479,     0.87492,\n",
              "            0.87505,     0.87518,     0.87531,     0.87544,     0.87557,      0.8757,     0.87583,     0.87596,     0.87609,     0.87622,     0.87635,     0.87648,     0.87657,     0.87666,     0.87675,     0.87684,     0.87693,     0.87702,     0.87711,      0.8772,     0.87729,     0.87738,     0.87746,\n",
              "            0.87755,     0.87764,     0.87773,     0.87782,     0.87791,       0.878,     0.87809,     0.87818,     0.87826,     0.87835,     0.87844,     0.87853,     0.87862,     0.87871,      0.8788,     0.87889,     0.87898,     0.87906,     0.87915,     0.87924,     0.87933,     0.87942,     0.87951,\n",
              "             0.8796,     0.87968,     0.87977,     0.87986,     0.87995,      0.8804,     0.88131,     0.88221,     0.88312,     0.88371,     0.88405,     0.88438,     0.88471,     0.88504,     0.88538,     0.88571,     0.88604,     0.88637,      0.8867,     0.88703,     0.88691,     0.88669,     0.88646,\n",
              "            0.88624,     0.88601,     0.88578,     0.88556,     0.88533,      0.8851,     0.88488,     0.88465,     0.88442,      0.8842,     0.88397,     0.88374,     0.88352,     0.88329,     0.88306,     0.88283,     0.88261,     0.88261,     0.88263,     0.88265,     0.88267,     0.88269,     0.88271,\n",
              "            0.88273,     0.88275,     0.88277,     0.88279,     0.88281,     0.88283,     0.88285,     0.88287,     0.88289,     0.88291,     0.88293,     0.88295,     0.88297,       0.883,     0.88302,     0.88304,     0.88306,     0.88308,      0.8831,     0.88312,     0.88314,     0.88316,     0.88318,\n",
              "             0.8832,     0.88322,     0.88324,     0.88326,     0.88328,      0.8833,     0.88332,     0.88334,     0.88336,     0.88338,      0.8834,     0.88342,     0.88344,     0.88346,     0.88348,      0.8835,     0.88352,     0.88354,     0.88356,     0.88358,      0.8836,     0.88362,     0.88364,\n",
              "            0.88366,     0.88368,      0.8837,     0.88372,     0.88374,     0.88376,     0.88378,      0.8838,     0.88383,     0.88385,     0.88387,     0.88389,     0.88391,     0.88393,     0.88395,     0.88397,     0.88399,     0.88401,     0.88403,     0.88405,     0.88407,     0.88409,     0.88411,\n",
              "            0.88413,     0.88415,     0.88417,     0.88419,     0.88421,     0.88423,     0.88425,     0.88427,     0.88429,     0.88431,     0.88433,     0.88435,     0.88437,     0.88439,     0.88441,     0.88443,     0.88445,     0.88447,     0.88449,     0.88451,     0.88453,     0.88455,     0.88457,\n",
              "            0.88459,     0.88461,     0.88463,     0.88465,     0.88467,     0.88469,     0.88471,     0.88473,     0.88475,     0.88477,      0.8848,     0.88482,     0.88484,     0.88486,     0.88488,      0.8849,     0.88492,     0.88494,     0.88496,     0.88498,       0.885,     0.88502,     0.88504,\n",
              "            0.88506,     0.88508,      0.8851,     0.88512,     0.88514,     0.88516,     0.88518,      0.8852,     0.88522,     0.88524,     0.88526,     0.88528,      0.8853,     0.88532,     0.88534,     0.88536,     0.88538,      0.8854,     0.88542,     0.88544,     0.88546,     0.88548,      0.8855,\n",
              "            0.88552,     0.88554,     0.88556,     0.88558,      0.8856,     0.88562,     0.88564,     0.88566,     0.88568,      0.8857,     0.88572,     0.88574,     0.88576,     0.88578,      0.8858,     0.88582,     0.88584,     0.88586,     0.88588,      0.8859,     0.88592,     0.88594,     0.88596,\n",
              "            0.88598,     0.88601,     0.88603,     0.88605,     0.88607,     0.88609,     0.88611,     0.88613,     0.88615,     0.88617,     0.88629,      0.8866,     0.88691,     0.88722,     0.88753,     0.88784,     0.88815,     0.88846,     0.88877,     0.88908,     0.88939,     0.88969,     0.88982,\n",
              "            0.88985,     0.88988,     0.88991,     0.88994,     0.88998,     0.89001,     0.89004,     0.89007,      0.8901,     0.89013,     0.89017,      0.8902,     0.89023,     0.89026,     0.89029,     0.89032,     0.89035,     0.89039,     0.89042,     0.89045,     0.89048,     0.89051,     0.89054,\n",
              "            0.89058,     0.89061,     0.89064,     0.89067,      0.8907,     0.89073,     0.89077,      0.8908,     0.89083,     0.89086,     0.89089,     0.89092,     0.89096,     0.89099,     0.89102,     0.89105,     0.89108,     0.89111,     0.89114,     0.89118,     0.89121,     0.89124,     0.89127,\n",
              "             0.8913,     0.89133,     0.89137,      0.8914,     0.89143,     0.89146,     0.89149,     0.89152,     0.89156,     0.89159,     0.89162,     0.89165,     0.89168,     0.89171,     0.89174,     0.89178,     0.89181,     0.89184,     0.89187,      0.8919,     0.89193,     0.89197,       0.892,\n",
              "            0.89203,     0.89206,     0.89209,     0.89212,     0.89215,     0.89219,     0.89222,     0.89225,     0.89228,     0.89231,     0.89234,     0.89237,     0.89241,     0.89244,     0.89247,      0.8925,     0.89253,     0.89256,      0.8926,     0.89263,     0.89266,     0.89269,     0.89272,\n",
              "            0.89275,     0.89278,     0.89282,     0.89285,     0.89288,     0.89291,     0.89294,     0.89297,       0.893,     0.89304,     0.89307,      0.8931,     0.89313,     0.89316,     0.89319,     0.89322,     0.89326,     0.89329,     0.89332,     0.89335,     0.89338,     0.89341,     0.89352,\n",
              "            0.89478,     0.89603,     0.89714,     0.89727,     0.89741,     0.89755,     0.89768,     0.89782,     0.89795,     0.89809,     0.89823,     0.89836,      0.8985,     0.89863,     0.89877,     0.89891,     0.89904,     0.89918,     0.89931,     0.89945,     0.89958,     0.89972,     0.89985,\n",
              "            0.89999,     0.90013,     0.90026,      0.9004,     0.90053,     0.90067,      0.9008,     0.90104,     0.90129,     0.90155,      0.9018,     0.90206,     0.90232,     0.90257,     0.90283,     0.90308,     0.90334,     0.90359,     0.90385,      0.9041,     0.90436,     0.90461,     0.90483,\n",
              "            0.90506,     0.90529,     0.90552,     0.90575,     0.90597,      0.9062,     0.90643,     0.90665,     0.90688,     0.90711,     0.90734,     0.90756,     0.90779,     0.90802,     0.90824,     0.90693,     0.90459,     0.90387,     0.90404,     0.90421,     0.90437,     0.90454,      0.9047,\n",
              "            0.90487,     0.90504,      0.9052,     0.90537,     0.90553,      0.9057,     0.90586,     0.90603,      0.9062,     0.90636,     0.90653,     0.90669,     0.90686,     0.90702,     0.90719,     0.90735,     0.90752,      0.9077,     0.90789,     0.90809,     0.90828,     0.90847,     0.90866,\n",
              "            0.90885,     0.90904,     0.90924,     0.90943,     0.90962,     0.90981,        0.91,     0.91019,     0.91038,     0.91058,     0.91077,     0.91096,     0.91115,     0.91134,      0.9118,     0.91237,     0.91294,      0.9135,     0.91407,     0.91463,     0.91519,     0.91481,     0.91431,\n",
              "            0.91382,     0.91332,     0.91282,     0.91232,     0.91182,     0.91133,     0.91083,     0.90766,     0.90589,     0.90575,     0.90561,     0.90548,     0.90534,      0.9052,     0.90506,     0.90492,     0.90478,     0.90464,      0.9045,     0.90436,     0.90422,     0.90408,     0.90394,\n",
              "             0.9038,     0.90366,     0.90352,     0.90339,     0.90325,     0.90311,     0.90297,     0.90283,     0.90269,     0.90255,     0.90241,     0.90227,     0.90213,     0.90199,     0.90185,     0.90171,     0.90157,     0.90143,     0.90129,     0.90111,     0.90092,     0.90074,     0.90056,\n",
              "            0.90038,     0.90019,     0.90001,     0.89983,     0.89964,     0.89946,     0.89928,     0.89909,     0.89891,     0.89873,     0.89855,     0.89836,     0.89818,       0.898,     0.89781,     0.89763,     0.89744,     0.89726,     0.89708,     0.89689,     0.89671,     0.89677,     0.89837,\n",
              "            0.89996,     0.90063,     0.90092,     0.90121,      0.9015,     0.90178,     0.90207,     0.90236,     0.90264,     0.90293,     0.90322,      0.9035,     0.90379,     0.90407,     0.90437,     0.90485,     0.90532,      0.9058,     0.90628,     0.90675,     0.90723,      0.9077,     0.90818,\n",
              "            0.90799,     0.90758,     0.90718,     0.90677,     0.90636,     0.90595,     0.90554,     0.90513,     0.90472,     0.90431,      0.9039,     0.90349,     0.90304,     0.90259,     0.90214,     0.90169,     0.90124,     0.90079,     0.90034,     0.89989,     0.89944,     0.89899,      0.8984,\n",
              "            0.89749,     0.89658,     0.89568,     0.89477,     0.89386,     0.89407,     0.89435,     0.89464,     0.89492,      0.8952,     0.89548,     0.89576,     0.89604,     0.89632,      0.8966,     0.89688,     0.89716,     0.89744,     0.89772,     0.89838,     0.89913,     0.89987,     0.90062,\n",
              "            0.90136,      0.9013,     0.90018,     0.89906,     0.89794,     0.89683,      0.8961,     0.89538,     0.89465,     0.89392,      0.8932,     0.89247,     0.89196,     0.89225,     0.89255,     0.89284,     0.89314,     0.89344,     0.89373,     0.89403,     0.89432,     0.89462,     0.89491,\n",
              "            0.89521,      0.8955,      0.8958,     0.89577,     0.89548,      0.8952,     0.89491,     0.89463,     0.89434,     0.89406,     0.89377,     0.89349,      0.8932,     0.89292,     0.89263,     0.89234,     0.89206,     0.89177,     0.89148,      0.8912,     0.89091,      0.8858,     0.88318,\n",
              "            0.88064,     0.87933,     0.87801,     0.87668,     0.87604,     0.87881,     0.87942,     0.87911,     0.87881,      0.8785,      0.8782,     0.87789,     0.87759,     0.87728,     0.87698,     0.87667,     0.87637,     0.87606,     0.87576,     0.87545,     0.87514,     0.87484,     0.87453,\n",
              "             0.8753,      0.8767,     0.87809,     0.87766,     0.87647,     0.87527,     0.87407,      0.8729,     0.87181,     0.87073,     0.86963,     0.86854,     0.86753,     0.86661,      0.8657,     0.86478,     0.86386,     0.86294,     0.86225,     0.86173,      0.8612,     0.86067,     0.86014,\n",
              "            0.85961,     0.85908,     0.85856,     0.85803,     0.85749,     0.85589,     0.85215,     0.84838,     0.84498,     0.84213,     0.83528,     0.83425,     0.83352,     0.83279,     0.83207,     0.83134,     0.83061,     0.82988,     0.82888,     0.82653,     0.82417,     0.82295,     0.82217,\n",
              "            0.82137,     0.82058,     0.81979,       0.819,      0.8182,     0.81527,     0.81279,     0.81486,     0.81728,     0.81992,     0.81587,     0.81065,     0.81053,     0.81068,      0.8082,      0.8066,     0.80943,     0.80928,     0.80788,     0.80649,     0.80509,     0.80313,     0.79996,\n",
              "            0.79328,       0.786,     0.78086,     0.78296,     0.77993,     0.77661,     0.77326,     0.76985,     0.76533,     0.76748,      0.7665,     0.76552,     0.76454,     0.76356,     0.76258,     0.76159,     0.75719,     0.74589,     0.74116,     0.72461,     0.71971,     0.71651,     0.71354,\n",
              "            0.70969,     0.70468,     0.69342,     0.68961,     0.68768,     0.68574,      0.6838,     0.67418,      0.6722,     0.67022,     0.66823,     0.66318,      0.6529,     0.63844,     0.60875,     0.60526,     0.60175,     0.57726,     0.55737,     0.55842,     0.55946,     0.56048,     0.54757,\n",
              "            0.54373,     0.53676,     0.52217,     0.51294,     0.51071,     0.50847,     0.50623,     0.50398,     0.50092,     0.49751,     0.49409,     0.48797,     0.47992,     0.44959,     0.44229,     0.41517,     0.38748,     0.36667,     0.35856,     0.35038,     0.32534,     0.30057,     0.29682,\n",
              "            0.29306,     0.28927,     0.27089,     0.24333,     0.22468,     0.19996,     0.17008,     0.12374,     0.11038,     0.10225,    0.087196,    0.081589,    0.077872,    0.074141,    0.070396,    0.052598,    0.044989,    0.038031,    0.033609,    0.031414,    0.029215,     0.02701,    0.024801,\n",
              "           0.022587,    0.020367,    0.018143,           0,           0,           0,           0,           0,           0,           0,           0,           0,           0,           0,           0,           0,           0,           0,           0,           0,           0,           0,           0,\n",
              "                  0,           0,           0,           0,           0,           0,           0,           0,           0,           0,           0]]), 'Confidence', 'F1'], [array([          0,    0.001001,    0.002002,    0.003003,    0.004004,    0.005005,    0.006006,    0.007007,    0.008008,    0.009009,     0.01001,    0.011011,    0.012012,    0.013013,    0.014014,    0.015015,    0.016016,    0.017017,    0.018018,    0.019019,     0.02002,    0.021021,    0.022022,    0.023023,\n",
              "          0.024024,    0.025025,    0.026026,    0.027027,    0.028028,    0.029029,     0.03003,    0.031031,    0.032032,    0.033033,    0.034034,    0.035035,    0.036036,    0.037037,    0.038038,    0.039039,     0.04004,    0.041041,    0.042042,    0.043043,    0.044044,    0.045045,    0.046046,    0.047047,\n",
              "          0.048048,    0.049049,     0.05005,    0.051051,    0.052052,    0.053053,    0.054054,    0.055055,    0.056056,    0.057057,    0.058058,    0.059059,     0.06006,    0.061061,    0.062062,    0.063063,    0.064064,    0.065065,    0.066066,    0.067067,    0.068068,    0.069069,     0.07007,    0.071071,\n",
              "          0.072072,    0.073073,    0.074074,    0.075075,    0.076076,    0.077077,    0.078078,    0.079079,     0.08008,    0.081081,    0.082082,    0.083083,    0.084084,    0.085085,    0.086086,    0.087087,    0.088088,    0.089089,     0.09009,    0.091091,    0.092092,    0.093093,    0.094094,    0.095095,\n",
              "          0.096096,    0.097097,    0.098098,    0.099099,      0.1001,      0.1011,      0.1021,      0.1031,      0.1041,     0.10511,     0.10611,     0.10711,     0.10811,     0.10911,     0.11011,     0.11111,     0.11211,     0.11311,     0.11411,     0.11512,     0.11612,     0.11712,     0.11812,     0.11912,\n",
              "           0.12012,     0.12112,     0.12212,     0.12312,     0.12412,     0.12513,     0.12613,     0.12713,     0.12813,     0.12913,     0.13013,     0.13113,     0.13213,     0.13313,     0.13413,     0.13514,     0.13614,     0.13714,     0.13814,     0.13914,     0.14014,     0.14114,     0.14214,     0.14314,\n",
              "           0.14414,     0.14515,     0.14615,     0.14715,     0.14815,     0.14915,     0.15015,     0.15115,     0.15215,     0.15315,     0.15415,     0.15516,     0.15616,     0.15716,     0.15816,     0.15916,     0.16016,     0.16116,     0.16216,     0.16316,     0.16416,     0.16517,     0.16617,     0.16717,\n",
              "           0.16817,     0.16917,     0.17017,     0.17117,     0.17217,     0.17317,     0.17417,     0.17518,     0.17618,     0.17718,     0.17818,     0.17918,     0.18018,     0.18118,     0.18218,     0.18318,     0.18418,     0.18519,     0.18619,     0.18719,     0.18819,     0.18919,     0.19019,     0.19119,\n",
              "           0.19219,     0.19319,     0.19419,      0.1952,      0.1962,      0.1972,      0.1982,      0.1992,      0.2002,      0.2012,      0.2022,      0.2032,      0.2042,     0.20521,     0.20621,     0.20721,     0.20821,     0.20921,     0.21021,     0.21121,     0.21221,     0.21321,     0.21421,     0.21522,\n",
              "           0.21622,     0.21722,     0.21822,     0.21922,     0.22022,     0.22122,     0.22222,     0.22322,     0.22422,     0.22523,     0.22623,     0.22723,     0.22823,     0.22923,     0.23023,     0.23123,     0.23223,     0.23323,     0.23423,     0.23524,     0.23624,     0.23724,     0.23824,     0.23924,\n",
              "           0.24024,     0.24124,     0.24224,     0.24324,     0.24424,     0.24525,     0.24625,     0.24725,     0.24825,     0.24925,     0.25025,     0.25125,     0.25225,     0.25325,     0.25425,     0.25526,     0.25626,     0.25726,     0.25826,     0.25926,     0.26026,     0.26126,     0.26226,     0.26326,\n",
              "           0.26426,     0.26527,     0.26627,     0.26727,     0.26827,     0.26927,     0.27027,     0.27127,     0.27227,     0.27327,     0.27427,     0.27528,     0.27628,     0.27728,     0.27828,     0.27928,     0.28028,     0.28128,     0.28228,     0.28328,     0.28428,     0.28529,     0.28629,     0.28729,\n",
              "           0.28829,     0.28929,     0.29029,     0.29129,     0.29229,     0.29329,     0.29429,      0.2953,      0.2963,      0.2973,      0.2983,      0.2993,      0.3003,      0.3013,      0.3023,      0.3033,      0.3043,     0.30531,     0.30631,     0.30731,     0.30831,     0.30931,     0.31031,     0.31131,\n",
              "           0.31231,     0.31331,     0.31431,     0.31532,     0.31632,     0.31732,     0.31832,     0.31932,     0.32032,     0.32132,     0.32232,     0.32332,     0.32432,     0.32533,     0.32633,     0.32733,     0.32833,     0.32933,     0.33033,     0.33133,     0.33233,     0.33333,     0.33433,     0.33534,\n",
              "           0.33634,     0.33734,     0.33834,     0.33934,     0.34034,     0.34134,     0.34234,     0.34334,     0.34434,     0.34535,     0.34635,     0.34735,     0.34835,     0.34935,     0.35035,     0.35135,     0.35235,     0.35335,     0.35435,     0.35536,     0.35636,     0.35736,     0.35836,     0.35936,\n",
              "           0.36036,     0.36136,     0.36236,     0.36336,     0.36436,     0.36537,     0.36637,     0.36737,     0.36837,     0.36937,     0.37037,     0.37137,     0.37237,     0.37337,     0.37437,     0.37538,     0.37638,     0.37738,     0.37838,     0.37938,     0.38038,     0.38138,     0.38238,     0.38338,\n",
              "           0.38438,     0.38539,     0.38639,     0.38739,     0.38839,     0.38939,     0.39039,     0.39139,     0.39239,     0.39339,     0.39439,      0.3954,      0.3964,      0.3974,      0.3984,      0.3994,      0.4004,      0.4014,      0.4024,      0.4034,      0.4044,     0.40541,     0.40641,     0.40741,\n",
              "           0.40841,     0.40941,     0.41041,     0.41141,     0.41241,     0.41341,     0.41441,     0.41542,     0.41642,     0.41742,     0.41842,     0.41942,     0.42042,     0.42142,     0.42242,     0.42342,     0.42442,     0.42543,     0.42643,     0.42743,     0.42843,     0.42943,     0.43043,     0.43143,\n",
              "           0.43243,     0.43343,     0.43443,     0.43544,     0.43644,     0.43744,     0.43844,     0.43944,     0.44044,     0.44144,     0.44244,     0.44344,     0.44444,     0.44545,     0.44645,     0.44745,     0.44845,     0.44945,     0.45045,     0.45145,     0.45245,     0.45345,     0.45445,     0.45546,\n",
              "           0.45646,     0.45746,     0.45846,     0.45946,     0.46046,     0.46146,     0.46246,     0.46346,     0.46446,     0.46547,     0.46647,     0.46747,     0.46847,     0.46947,     0.47047,     0.47147,     0.47247,     0.47347,     0.47447,     0.47548,     0.47648,     0.47748,     0.47848,     0.47948,\n",
              "           0.48048,     0.48148,     0.48248,     0.48348,     0.48448,     0.48549,     0.48649,     0.48749,     0.48849,     0.48949,     0.49049,     0.49149,     0.49249,     0.49349,     0.49449,      0.4955,      0.4965,      0.4975,      0.4985,      0.4995,      0.5005,      0.5015,      0.5025,      0.5035,\n",
              "            0.5045,     0.50551,     0.50651,     0.50751,     0.50851,     0.50951,     0.51051,     0.51151,     0.51251,     0.51351,     0.51451,     0.51552,     0.51652,     0.51752,     0.51852,     0.51952,     0.52052,     0.52152,     0.52252,     0.52352,     0.52452,     0.52553,     0.52653,     0.52753,\n",
              "           0.52853,     0.52953,     0.53053,     0.53153,     0.53253,     0.53353,     0.53453,     0.53554,     0.53654,     0.53754,     0.53854,     0.53954,     0.54054,     0.54154,     0.54254,     0.54354,     0.54454,     0.54555,     0.54655,     0.54755,     0.54855,     0.54955,     0.55055,     0.55155,\n",
              "           0.55255,     0.55355,     0.55455,     0.55556,     0.55656,     0.55756,     0.55856,     0.55956,     0.56056,     0.56156,     0.56256,     0.56356,     0.56456,     0.56557,     0.56657,     0.56757,     0.56857,     0.56957,     0.57057,     0.57157,     0.57257,     0.57357,     0.57457,     0.57558,\n",
              "           0.57658,     0.57758,     0.57858,     0.57958,     0.58058,     0.58158,     0.58258,     0.58358,     0.58458,     0.58559,     0.58659,     0.58759,     0.58859,     0.58959,     0.59059,     0.59159,     0.59259,     0.59359,     0.59459,      0.5956,      0.5966,      0.5976,      0.5986,      0.5996,\n",
              "            0.6006,      0.6016,      0.6026,      0.6036,      0.6046,     0.60561,     0.60661,     0.60761,     0.60861,     0.60961,     0.61061,     0.61161,     0.61261,     0.61361,     0.61461,     0.61562,     0.61662,     0.61762,     0.61862,     0.61962,     0.62062,     0.62162,     0.62262,     0.62362,\n",
              "           0.62462,     0.62563,     0.62663,     0.62763,     0.62863,     0.62963,     0.63063,     0.63163,     0.63263,     0.63363,     0.63463,     0.63564,     0.63664,     0.63764,     0.63864,     0.63964,     0.64064,     0.64164,     0.64264,     0.64364,     0.64464,     0.64565,     0.64665,     0.64765,\n",
              "           0.64865,     0.64965,     0.65065,     0.65165,     0.65265,     0.65365,     0.65465,     0.65566,     0.65666,     0.65766,     0.65866,     0.65966,     0.66066,     0.66166,     0.66266,     0.66366,     0.66466,     0.66567,     0.66667,     0.66767,     0.66867,     0.66967,     0.67067,     0.67167,\n",
              "           0.67267,     0.67367,     0.67467,     0.67568,     0.67668,     0.67768,     0.67868,     0.67968,     0.68068,     0.68168,     0.68268,     0.68368,     0.68468,     0.68569,     0.68669,     0.68769,     0.68869,     0.68969,     0.69069,     0.69169,     0.69269,     0.69369,     0.69469,      0.6957,\n",
              "            0.6967,      0.6977,      0.6987,      0.6997,      0.7007,      0.7017,      0.7027,      0.7037,      0.7047,     0.70571,     0.70671,     0.70771,     0.70871,     0.70971,     0.71071,     0.71171,     0.71271,     0.71371,     0.71471,     0.71572,     0.71672,     0.71772,     0.71872,     0.71972,\n",
              "           0.72072,     0.72172,     0.72272,     0.72372,     0.72472,     0.72573,     0.72673,     0.72773,     0.72873,     0.72973,     0.73073,     0.73173,     0.73273,     0.73373,     0.73473,     0.73574,     0.73674,     0.73774,     0.73874,     0.73974,     0.74074,     0.74174,     0.74274,     0.74374,\n",
              "           0.74474,     0.74575,     0.74675,     0.74775,     0.74875,     0.74975,     0.75075,     0.75175,     0.75275,     0.75375,     0.75475,     0.75576,     0.75676,     0.75776,     0.75876,     0.75976,     0.76076,     0.76176,     0.76276,     0.76376,     0.76476,     0.76577,     0.76677,     0.76777,\n",
              "           0.76877,     0.76977,     0.77077,     0.77177,     0.77277,     0.77377,     0.77477,     0.77578,     0.77678,     0.77778,     0.77878,     0.77978,     0.78078,     0.78178,     0.78278,     0.78378,     0.78478,     0.78579,     0.78679,     0.78779,     0.78879,     0.78979,     0.79079,     0.79179,\n",
              "           0.79279,     0.79379,     0.79479,      0.7958,      0.7968,      0.7978,      0.7988,      0.7998,      0.8008,      0.8018,      0.8028,      0.8038,      0.8048,     0.80581,     0.80681,     0.80781,     0.80881,     0.80981,     0.81081,     0.81181,     0.81281,     0.81381,     0.81481,     0.81582,\n",
              "           0.81682,     0.81782,     0.81882,     0.81982,     0.82082,     0.82182,     0.82282,     0.82382,     0.82482,     0.82583,     0.82683,     0.82783,     0.82883,     0.82983,     0.83083,     0.83183,     0.83283,     0.83383,     0.83483,     0.83584,     0.83684,     0.83784,     0.83884,     0.83984,\n",
              "           0.84084,     0.84184,     0.84284,     0.84384,     0.84484,     0.84585,     0.84685,     0.84785,     0.84885,     0.84985,     0.85085,     0.85185,     0.85285,     0.85385,     0.85485,     0.85586,     0.85686,     0.85786,     0.85886,     0.85986,     0.86086,     0.86186,     0.86286,     0.86386,\n",
              "           0.86486,     0.86587,     0.86687,     0.86787,     0.86887,     0.86987,     0.87087,     0.87187,     0.87287,     0.87387,     0.87487,     0.87588,     0.87688,     0.87788,     0.87888,     0.87988,     0.88088,     0.88188,     0.88288,     0.88388,     0.88488,     0.88589,     0.88689,     0.88789,\n",
              "           0.88889,     0.88989,     0.89089,     0.89189,     0.89289,     0.89389,     0.89489,      0.8959,      0.8969,      0.8979,      0.8989,      0.8999,      0.9009,      0.9019,      0.9029,      0.9039,      0.9049,     0.90591,     0.90691,     0.90791,     0.90891,     0.90991,     0.91091,     0.91191,\n",
              "           0.91291,     0.91391,     0.91491,     0.91592,     0.91692,     0.91792,     0.91892,     0.91992,     0.92092,     0.92192,     0.92292,     0.92392,     0.92492,     0.92593,     0.92693,     0.92793,     0.92893,     0.92993,     0.93093,     0.93193,     0.93293,     0.93393,     0.93493,     0.93594,\n",
              "           0.93694,     0.93794,     0.93894,     0.93994,     0.94094,     0.94194,     0.94294,     0.94394,     0.94494,     0.94595,     0.94695,     0.94795,     0.94895,     0.94995,     0.95095,     0.95195,     0.95295,     0.95395,     0.95495,     0.95596,     0.95696,     0.95796,     0.95896,     0.95996,\n",
              "           0.96096,     0.96196,     0.96296,     0.96396,     0.96496,     0.96597,     0.96697,     0.96797,     0.96897,     0.96997,     0.97097,     0.97197,     0.97297,     0.97397,     0.97497,     0.97598,     0.97698,     0.97798,     0.97898,     0.97998,     0.98098,     0.98198,     0.98298,     0.98398,\n",
              "           0.98498,     0.98599,     0.98699,     0.98799,     0.98899,     0.98999,     0.99099,     0.99199,     0.99299,     0.99399,     0.99499,       0.996,       0.997,       0.998,       0.999,           1]), array([[    0.32277,     0.32277,     0.43336,     0.49478,     0.52767,     0.56014,     0.58799,     0.59645,     0.60914,     0.62555,      0.6335,     0.64195,     0.65218,     0.66451,     0.67123,     0.67333,     0.67635,     0.68117,     0.68691,     0.69668,     0.69882,     0.70032,     0.70103,\n",
              "            0.70173,     0.70244,     0.70314,     0.70385,     0.70525,     0.70902,     0.71112,     0.71322,     0.71607,     0.72186,     0.72627,     0.72782,     0.72937,     0.73111,     0.73312,     0.74007,     0.74579,     0.75041,     0.75164,     0.75287,     0.75411,     0.75528,     0.75621,\n",
              "            0.75714,     0.75808,     0.75901,     0.75994,     0.76284,     0.76623,     0.76838,     0.77053,      0.7693,     0.76976,     0.77021,     0.77066,     0.77112,     0.77157,     0.77202,     0.77248,     0.77293,     0.77338,     0.77384,     0.77429,     0.77528,     0.77828,     0.78048,\n",
              "            0.78137,     0.78225,     0.78314,     0.78403,     0.78492,     0.78593,     0.78814,     0.79035,     0.79148,      0.7917,     0.79191,     0.79213,     0.79234,     0.79256,     0.79277,     0.79299,      0.7932,     0.79342,     0.79363,     0.79385,     0.79407,     0.79428,      0.7945,\n",
              "            0.79471,     0.79493,     0.79514,     0.79536,     0.79557,     0.79579,       0.796,     0.79622,     0.79643,     0.79665,     0.79686,     0.79708,     0.79723,     0.79738,     0.79753,     0.79768,     0.79782,     0.79797,     0.79812,     0.79827,     0.79841,     0.79856,     0.79871,\n",
              "            0.79886,       0.799,     0.79915,      0.7993,     0.79945,     0.79959,     0.79974,     0.79989,     0.80004,     0.80018,     0.80033,     0.80048,     0.80063,     0.80077,     0.80092,     0.80107,     0.80122,     0.80136,     0.80151,     0.80166,     0.80181,     0.80195,      0.8021,\n",
              "            0.80225,      0.8024,     0.80254,     0.80269,     0.80284,     0.80359,      0.8051,     0.80661,     0.80813,     0.80913,     0.80968,     0.81024,      0.8108,     0.81136,     0.81192,     0.81247,     0.81303,     0.81359,     0.81415,     0.81471,     0.81476,     0.81469,     0.81462,\n",
              "            0.81455,     0.81448,     0.81441,     0.81434,     0.81427,      0.8142,     0.81413,     0.81406,     0.81399,     0.81392,     0.81385,     0.81379,     0.81372,     0.81365,     0.81358,     0.81351,     0.81344,     0.81346,      0.8135,     0.81353,     0.81357,      0.8136,     0.81364,\n",
              "            0.81367,     0.81371,     0.81374,     0.81377,     0.81381,     0.81384,     0.81388,     0.81391,     0.81395,     0.81398,     0.81402,     0.81405,     0.81408,     0.81412,     0.81415,     0.81419,     0.81422,     0.81426,     0.81429,     0.81433,     0.81436,     0.81439,     0.81443,\n",
              "            0.81446,      0.8145,     0.81453,     0.81457,      0.8146,     0.81464,     0.81467,      0.8147,     0.81474,     0.81477,     0.81481,     0.81484,     0.81488,     0.81491,     0.81495,     0.81498,     0.81501,     0.81505,     0.81508,     0.81512,     0.81515,     0.81519,     0.81522,\n",
              "            0.81526,     0.81529,     0.81532,     0.81536,     0.81539,     0.81543,     0.81546,      0.8155,     0.81553,     0.81557,      0.8156,     0.81563,     0.81567,      0.8157,     0.81574,     0.81577,     0.81581,     0.81584,     0.81588,     0.81591,     0.81594,     0.81598,     0.81601,\n",
              "            0.81605,     0.81608,     0.81612,     0.81615,     0.81619,     0.81622,     0.81625,     0.81629,     0.81632,     0.81636,     0.81639,     0.81643,     0.81646,      0.8165,     0.81653,     0.81657,      0.8166,     0.81663,     0.81667,      0.8167,     0.81674,     0.81677,     0.81681,\n",
              "            0.81684,     0.81688,     0.81691,     0.81694,     0.81698,     0.81701,     0.81705,     0.81708,     0.81712,     0.81715,     0.81719,     0.81722,     0.81725,     0.81729,     0.81732,     0.81736,     0.81739,     0.81743,     0.81746,      0.8175,     0.81753,     0.81756,      0.8176,\n",
              "            0.81763,     0.81767,      0.8177,     0.81774,     0.81777,     0.81781,     0.81784,     0.81787,     0.81791,     0.81794,     0.81798,     0.81801,     0.81805,     0.81808,     0.81812,     0.81815,     0.81818,     0.81822,     0.81825,     0.81829,     0.81832,     0.81836,     0.81839,\n",
              "            0.81843,     0.81846,     0.81849,     0.81853,     0.81856,      0.8186,     0.81863,     0.81867,      0.8187,     0.81874,     0.81877,      0.8188,     0.81884,     0.81887,     0.81891,     0.81894,     0.81898,     0.81901,     0.81905,     0.81908,     0.81911,     0.81915,     0.81918,\n",
              "            0.81922,     0.81925,     0.81929,     0.81932,     0.81936,     0.81939,     0.81942,     0.81946,     0.81949,     0.81953,     0.81975,     0.82028,     0.82081,     0.82134,     0.82187,      0.8224,     0.82293,     0.82346,     0.82399,     0.82452,     0.82505,     0.82558,     0.82579,\n",
              "            0.82585,      0.8259,     0.82596,     0.82601,     0.82607,     0.82612,     0.82618,     0.82623,     0.82628,     0.82634,     0.82639,     0.82645,      0.8265,     0.82656,     0.82661,     0.82667,     0.82672,     0.82678,     0.82683,     0.82688,     0.82694,     0.82699,     0.82705,\n",
              "             0.8271,     0.82716,     0.82721,     0.82727,     0.82732,     0.82738,     0.82743,     0.82748,     0.82754,     0.82759,     0.82765,      0.8277,     0.82776,     0.82781,     0.82787,     0.82792,     0.82797,     0.82803,     0.82808,     0.82814,     0.82819,     0.82825,      0.8283,\n",
              "            0.82836,     0.82841,     0.82847,     0.82852,     0.82857,     0.82863,     0.82868,     0.82874,     0.82879,     0.82885,      0.8289,     0.82896,     0.82901,     0.82907,     0.82912,     0.82917,     0.82923,     0.82928,     0.82934,     0.82939,     0.82945,      0.8295,     0.82956,\n",
              "            0.82961,     0.82967,     0.82972,     0.82977,     0.82983,     0.82988,     0.82994,     0.82999,     0.83005,      0.8301,     0.83016,     0.83021,     0.83027,     0.83032,     0.83037,     0.83043,     0.83048,     0.83054,     0.83059,     0.83065,      0.8307,     0.83076,     0.83081,\n",
              "            0.83086,     0.83092,     0.83097,     0.83103,     0.83108,     0.83114,     0.83119,     0.83125,      0.8313,     0.83136,     0.83141,     0.83146,     0.83152,     0.83157,     0.83163,     0.83168,     0.83174,     0.83179,     0.83185,      0.8319,     0.83196,     0.83201,     0.83219,\n",
              "            0.83438,     0.83657,     0.83849,     0.83873,     0.83897,     0.83921,     0.83945,     0.83968,     0.83992,     0.84016,      0.8404,     0.84063,     0.84087,     0.84111,     0.84135,     0.84159,     0.84182,     0.84206,      0.8423,     0.84254,     0.84278,     0.84301,     0.84325,\n",
              "            0.84349,     0.84373,     0.84397,      0.8442,     0.84444,     0.84468,     0.84492,     0.84533,     0.84578,     0.84623,     0.84668,     0.84713,     0.84759,     0.84804,     0.84849,     0.84894,     0.84939,     0.84984,     0.85029,     0.85074,     0.85119,     0.85164,     0.85204,\n",
              "            0.85245,     0.85285,     0.85325,     0.85366,     0.85406,     0.85447,     0.85487,     0.85528,     0.85568,     0.85608,     0.85649,     0.85689,      0.8573,      0.8577,     0.85811,     0.85792,     0.85735,     0.85734,     0.85764,     0.85793,     0.85823,     0.85853,     0.85883,\n",
              "            0.85913,     0.85943,     0.85973,     0.86003,     0.86033,     0.86063,     0.86093,     0.86122,     0.86152,     0.86182,     0.86212,     0.86242,     0.86272,     0.86302,     0.86332,     0.86362,     0.86392,     0.86425,      0.8646,     0.86495,      0.8653,     0.86564,     0.86599,\n",
              "            0.86634,     0.86669,     0.86704,     0.86739,     0.86774,     0.86808,     0.86843,     0.86878,     0.86913,     0.86948,     0.86983,     0.87017,     0.87052,     0.87087,     0.87172,     0.87275,     0.87379,     0.87483,     0.87586,      0.8769,     0.87794,     0.87795,     0.87784,\n",
              "            0.87774,     0.87763,     0.87752,     0.87741,     0.87731,      0.8772,     0.87709,      0.8764,     0.87601,     0.87598,     0.87595,     0.87592,     0.87589,     0.87586,     0.87583,      0.8758,     0.87577,     0.87574,     0.87571,     0.87568,     0.87564,     0.87561,     0.87558,\n",
              "            0.87555,     0.87552,     0.87549,     0.87546,     0.87543,      0.8754,     0.87537,     0.87534,     0.87531,     0.87528,     0.87525,     0.87522,     0.87518,     0.87515,     0.87512,     0.87509,     0.87506,     0.87503,       0.875,     0.87496,     0.87492,     0.87488,     0.87484,\n",
              "             0.8748,     0.87476,     0.87472,     0.87468,     0.87463,     0.87459,     0.87455,     0.87451,     0.87447,     0.87443,     0.87439,     0.87435,     0.87431,     0.87427,     0.87423,     0.87419,     0.87415,     0.87411,     0.87407,     0.87403,     0.87398,     0.87437,     0.87741,\n",
              "            0.88044,     0.88174,     0.88229,     0.88284,      0.8834,     0.88395,      0.8845,     0.88505,      0.8856,     0.88615,     0.88671,     0.88726,     0.88781,     0.88836,     0.88893,     0.88985,     0.89077,      0.8917,     0.89262,     0.89355,     0.89447,      0.8954,     0.89632,\n",
              "            0.89649,     0.89642,     0.89634,     0.89626,     0.89619,     0.89611,     0.89603,     0.89596,     0.89588,      0.8958,     0.89573,     0.89565,     0.89556,     0.89548,     0.89539,     0.89531,     0.89522,     0.89514,     0.89505,     0.89497,     0.89488,      0.8948,     0.89468,\n",
              "            0.89451,     0.89434,     0.89416,     0.89399,     0.89381,     0.89434,      0.8949,     0.89547,     0.89603,     0.89659,     0.89716,     0.89772,     0.89829,     0.89885,     0.89942,     0.89998,     0.90054,     0.90111,     0.90167,     0.90299,     0.90451,     0.90602,     0.90754,\n",
              "            0.90905,     0.90983,     0.90964,     0.90946,     0.90927,     0.90909,     0.90896,     0.90884,     0.90872,      0.9086,     0.90848,     0.90835,     0.90839,       0.909,     0.90962,     0.91024,     0.91085,     0.91147,     0.91208,      0.9127,     0.91331,     0.91393,     0.91455,\n",
              "            0.91516,     0.91578,     0.91639,     0.91664,      0.9166,     0.91655,     0.91651,     0.91646,     0.91642,     0.91638,     0.91633,     0.91629,     0.91624,      0.9162,     0.91615,     0.91611,     0.91607,     0.91602,     0.91598,     0.91593,     0.91589,     0.91509,     0.91467,\n",
              "            0.91427,     0.91406,     0.91385,     0.91364,     0.91446,     0.92053,      0.9223,     0.92225,     0.92221,     0.92216,     0.92212,     0.92208,     0.92203,     0.92199,     0.92194,      0.9219,     0.92185,     0.92181,     0.92176,     0.92172,     0.92167,     0.92163,     0.92159,\n",
              "            0.92353,     0.92665,     0.92977,     0.93058,     0.93042,     0.93027,     0.93011,     0.92995,     0.92981,     0.92966,     0.92952,     0.92937,     0.92924,     0.92912,     0.92899,     0.92887,     0.92875,     0.92862,     0.92853,     0.92846,     0.92839,     0.92831,     0.92824,\n",
              "            0.92817,      0.9281,     0.92803,     0.92795,     0.92788,     0.92766,     0.92715,     0.92662,     0.92615,     0.92575,     0.92478,     0.92463,     0.92452,     0.92442,     0.92431,     0.92421,     0.92411,       0.924,     0.92386,     0.92351,     0.92317,     0.92299,     0.92288,\n",
              "            0.92276,     0.92264,     0.92252,     0.92241,     0.92229,     0.92185,     0.92369,     0.92905,     0.93536,     0.94252,     0.94206,     0.94147,     0.94786,     0.95224,       0.952,     0.95314,     0.96107,     0.96334,     0.96324,     0.96314,     0.96303,     0.96289,     0.96265,\n",
              "            0.96215,     0.96159,     0.96687,     0.97335,     0.97351,     0.97333,     0.97315,     0.97296,     0.97271,     0.98611,     0.98608,     0.98605,     0.98602,     0.98599,     0.98597,     0.98594,     0.98581,     0.98547,     0.98532,     0.98479,     0.98464,     0.98453,     0.98443,\n",
              "             0.9843,     0.98413,     0.98374,     0.98361,     0.98354,     0.98346,     0.98339,     0.98304,     0.98297,     0.98289,     0.98282,     0.98262,     0.98222,     0.98163,     0.98035,     0.98018,     0.98002,     0.97884,      0.9803,     0.98681,     0.99332,     0.99983,           1,\n",
              "                  1,           1,           1,           1,           1,           1,           1,           1,           1,           1,           1,           1,           1,           1,           1,           1,           1,           1,           1,           1,           1,           1,           1,\n",
              "                  1,           1,           1,           1,           1,           1,           1,           1,           1,           1,           1,           1,           1,           1,           1,           1,           1,           1,           1,           1,           1,           1,           1,\n",
              "                  1,           1,           1,           1,           1,           1,           1,           1,           1,           1,           1,           1,           1,           1,           1,           1,           1,           1,           1,           1,           1,           1,           1,\n",
              "                  1,           1,           1,           1,           1,           1,           1,           1,           1,           1,           1]]), 'Confidence', 'Precision'], [array([          0,    0.001001,    0.002002,    0.003003,    0.004004,    0.005005,    0.006006,    0.007007,    0.008008,    0.009009,     0.01001,    0.011011,    0.012012,    0.013013,    0.014014,    0.015015,    0.016016,    0.017017,    0.018018,    0.019019,     0.02002,    0.021021,    0.022022,    0.023023,\n",
              "          0.024024,    0.025025,    0.026026,    0.027027,    0.028028,    0.029029,     0.03003,    0.031031,    0.032032,    0.033033,    0.034034,    0.035035,    0.036036,    0.037037,    0.038038,    0.039039,     0.04004,    0.041041,    0.042042,    0.043043,    0.044044,    0.045045,    0.046046,    0.047047,\n",
              "          0.048048,    0.049049,     0.05005,    0.051051,    0.052052,    0.053053,    0.054054,    0.055055,    0.056056,    0.057057,    0.058058,    0.059059,     0.06006,    0.061061,    0.062062,    0.063063,    0.064064,    0.065065,    0.066066,    0.067067,    0.068068,    0.069069,     0.07007,    0.071071,\n",
              "          0.072072,    0.073073,    0.074074,    0.075075,    0.076076,    0.077077,    0.078078,    0.079079,     0.08008,    0.081081,    0.082082,    0.083083,    0.084084,    0.085085,    0.086086,    0.087087,    0.088088,    0.089089,     0.09009,    0.091091,    0.092092,    0.093093,    0.094094,    0.095095,\n",
              "          0.096096,    0.097097,    0.098098,    0.099099,      0.1001,      0.1011,      0.1021,      0.1031,      0.1041,     0.10511,     0.10611,     0.10711,     0.10811,     0.10911,     0.11011,     0.11111,     0.11211,     0.11311,     0.11411,     0.11512,     0.11612,     0.11712,     0.11812,     0.11912,\n",
              "           0.12012,     0.12112,     0.12212,     0.12312,     0.12412,     0.12513,     0.12613,     0.12713,     0.12813,     0.12913,     0.13013,     0.13113,     0.13213,     0.13313,     0.13413,     0.13514,     0.13614,     0.13714,     0.13814,     0.13914,     0.14014,     0.14114,     0.14214,     0.14314,\n",
              "           0.14414,     0.14515,     0.14615,     0.14715,     0.14815,     0.14915,     0.15015,     0.15115,     0.15215,     0.15315,     0.15415,     0.15516,     0.15616,     0.15716,     0.15816,     0.15916,     0.16016,     0.16116,     0.16216,     0.16316,     0.16416,     0.16517,     0.16617,     0.16717,\n",
              "           0.16817,     0.16917,     0.17017,     0.17117,     0.17217,     0.17317,     0.17417,     0.17518,     0.17618,     0.17718,     0.17818,     0.17918,     0.18018,     0.18118,     0.18218,     0.18318,     0.18418,     0.18519,     0.18619,     0.18719,     0.18819,     0.18919,     0.19019,     0.19119,\n",
              "           0.19219,     0.19319,     0.19419,      0.1952,      0.1962,      0.1972,      0.1982,      0.1992,      0.2002,      0.2012,      0.2022,      0.2032,      0.2042,     0.20521,     0.20621,     0.20721,     0.20821,     0.20921,     0.21021,     0.21121,     0.21221,     0.21321,     0.21421,     0.21522,\n",
              "           0.21622,     0.21722,     0.21822,     0.21922,     0.22022,     0.22122,     0.22222,     0.22322,     0.22422,     0.22523,     0.22623,     0.22723,     0.22823,     0.22923,     0.23023,     0.23123,     0.23223,     0.23323,     0.23423,     0.23524,     0.23624,     0.23724,     0.23824,     0.23924,\n",
              "           0.24024,     0.24124,     0.24224,     0.24324,     0.24424,     0.24525,     0.24625,     0.24725,     0.24825,     0.24925,     0.25025,     0.25125,     0.25225,     0.25325,     0.25425,     0.25526,     0.25626,     0.25726,     0.25826,     0.25926,     0.26026,     0.26126,     0.26226,     0.26326,\n",
              "           0.26426,     0.26527,     0.26627,     0.26727,     0.26827,     0.26927,     0.27027,     0.27127,     0.27227,     0.27327,     0.27427,     0.27528,     0.27628,     0.27728,     0.27828,     0.27928,     0.28028,     0.28128,     0.28228,     0.28328,     0.28428,     0.28529,     0.28629,     0.28729,\n",
              "           0.28829,     0.28929,     0.29029,     0.29129,     0.29229,     0.29329,     0.29429,      0.2953,      0.2963,      0.2973,      0.2983,      0.2993,      0.3003,      0.3013,      0.3023,      0.3033,      0.3043,     0.30531,     0.30631,     0.30731,     0.30831,     0.30931,     0.31031,     0.31131,\n",
              "           0.31231,     0.31331,     0.31431,     0.31532,     0.31632,     0.31732,     0.31832,     0.31932,     0.32032,     0.32132,     0.32232,     0.32332,     0.32432,     0.32533,     0.32633,     0.32733,     0.32833,     0.32933,     0.33033,     0.33133,     0.33233,     0.33333,     0.33433,     0.33534,\n",
              "           0.33634,     0.33734,     0.33834,     0.33934,     0.34034,     0.34134,     0.34234,     0.34334,     0.34434,     0.34535,     0.34635,     0.34735,     0.34835,     0.34935,     0.35035,     0.35135,     0.35235,     0.35335,     0.35435,     0.35536,     0.35636,     0.35736,     0.35836,     0.35936,\n",
              "           0.36036,     0.36136,     0.36236,     0.36336,     0.36436,     0.36537,     0.36637,     0.36737,     0.36837,     0.36937,     0.37037,     0.37137,     0.37237,     0.37337,     0.37437,     0.37538,     0.37638,     0.37738,     0.37838,     0.37938,     0.38038,     0.38138,     0.38238,     0.38338,\n",
              "           0.38438,     0.38539,     0.38639,     0.38739,     0.38839,     0.38939,     0.39039,     0.39139,     0.39239,     0.39339,     0.39439,      0.3954,      0.3964,      0.3974,      0.3984,      0.3994,      0.4004,      0.4014,      0.4024,      0.4034,      0.4044,     0.40541,     0.40641,     0.40741,\n",
              "           0.40841,     0.40941,     0.41041,     0.41141,     0.41241,     0.41341,     0.41441,     0.41542,     0.41642,     0.41742,     0.41842,     0.41942,     0.42042,     0.42142,     0.42242,     0.42342,     0.42442,     0.42543,     0.42643,     0.42743,     0.42843,     0.42943,     0.43043,     0.43143,\n",
              "           0.43243,     0.43343,     0.43443,     0.43544,     0.43644,     0.43744,     0.43844,     0.43944,     0.44044,     0.44144,     0.44244,     0.44344,     0.44444,     0.44545,     0.44645,     0.44745,     0.44845,     0.44945,     0.45045,     0.45145,     0.45245,     0.45345,     0.45445,     0.45546,\n",
              "           0.45646,     0.45746,     0.45846,     0.45946,     0.46046,     0.46146,     0.46246,     0.46346,     0.46446,     0.46547,     0.46647,     0.46747,     0.46847,     0.46947,     0.47047,     0.47147,     0.47247,     0.47347,     0.47447,     0.47548,     0.47648,     0.47748,     0.47848,     0.47948,\n",
              "           0.48048,     0.48148,     0.48248,     0.48348,     0.48448,     0.48549,     0.48649,     0.48749,     0.48849,     0.48949,     0.49049,     0.49149,     0.49249,     0.49349,     0.49449,      0.4955,      0.4965,      0.4975,      0.4985,      0.4995,      0.5005,      0.5015,      0.5025,      0.5035,\n",
              "            0.5045,     0.50551,     0.50651,     0.50751,     0.50851,     0.50951,     0.51051,     0.51151,     0.51251,     0.51351,     0.51451,     0.51552,     0.51652,     0.51752,     0.51852,     0.51952,     0.52052,     0.52152,     0.52252,     0.52352,     0.52452,     0.52553,     0.52653,     0.52753,\n",
              "           0.52853,     0.52953,     0.53053,     0.53153,     0.53253,     0.53353,     0.53453,     0.53554,     0.53654,     0.53754,     0.53854,     0.53954,     0.54054,     0.54154,     0.54254,     0.54354,     0.54454,     0.54555,     0.54655,     0.54755,     0.54855,     0.54955,     0.55055,     0.55155,\n",
              "           0.55255,     0.55355,     0.55455,     0.55556,     0.55656,     0.55756,     0.55856,     0.55956,     0.56056,     0.56156,     0.56256,     0.56356,     0.56456,     0.56557,     0.56657,     0.56757,     0.56857,     0.56957,     0.57057,     0.57157,     0.57257,     0.57357,     0.57457,     0.57558,\n",
              "           0.57658,     0.57758,     0.57858,     0.57958,     0.58058,     0.58158,     0.58258,     0.58358,     0.58458,     0.58559,     0.58659,     0.58759,     0.58859,     0.58959,     0.59059,     0.59159,     0.59259,     0.59359,     0.59459,      0.5956,      0.5966,      0.5976,      0.5986,      0.5996,\n",
              "            0.6006,      0.6016,      0.6026,      0.6036,      0.6046,     0.60561,     0.60661,     0.60761,     0.60861,     0.60961,     0.61061,     0.61161,     0.61261,     0.61361,     0.61461,     0.61562,     0.61662,     0.61762,     0.61862,     0.61962,     0.62062,     0.62162,     0.62262,     0.62362,\n",
              "           0.62462,     0.62563,     0.62663,     0.62763,     0.62863,     0.62963,     0.63063,     0.63163,     0.63263,     0.63363,     0.63463,     0.63564,     0.63664,     0.63764,     0.63864,     0.63964,     0.64064,     0.64164,     0.64264,     0.64364,     0.64464,     0.64565,     0.64665,     0.64765,\n",
              "           0.64865,     0.64965,     0.65065,     0.65165,     0.65265,     0.65365,     0.65465,     0.65566,     0.65666,     0.65766,     0.65866,     0.65966,     0.66066,     0.66166,     0.66266,     0.66366,     0.66466,     0.66567,     0.66667,     0.66767,     0.66867,     0.66967,     0.67067,     0.67167,\n",
              "           0.67267,     0.67367,     0.67467,     0.67568,     0.67668,     0.67768,     0.67868,     0.67968,     0.68068,     0.68168,     0.68268,     0.68368,     0.68468,     0.68569,     0.68669,     0.68769,     0.68869,     0.68969,     0.69069,     0.69169,     0.69269,     0.69369,     0.69469,      0.6957,\n",
              "            0.6967,      0.6977,      0.6987,      0.6997,      0.7007,      0.7017,      0.7027,      0.7037,      0.7047,     0.70571,     0.70671,     0.70771,     0.70871,     0.70971,     0.71071,     0.71171,     0.71271,     0.71371,     0.71471,     0.71572,     0.71672,     0.71772,     0.71872,     0.71972,\n",
              "           0.72072,     0.72172,     0.72272,     0.72372,     0.72472,     0.72573,     0.72673,     0.72773,     0.72873,     0.72973,     0.73073,     0.73173,     0.73273,     0.73373,     0.73473,     0.73574,     0.73674,     0.73774,     0.73874,     0.73974,     0.74074,     0.74174,     0.74274,     0.74374,\n",
              "           0.74474,     0.74575,     0.74675,     0.74775,     0.74875,     0.74975,     0.75075,     0.75175,     0.75275,     0.75375,     0.75475,     0.75576,     0.75676,     0.75776,     0.75876,     0.75976,     0.76076,     0.76176,     0.76276,     0.76376,     0.76476,     0.76577,     0.76677,     0.76777,\n",
              "           0.76877,     0.76977,     0.77077,     0.77177,     0.77277,     0.77377,     0.77477,     0.77578,     0.77678,     0.77778,     0.77878,     0.77978,     0.78078,     0.78178,     0.78278,     0.78378,     0.78478,     0.78579,     0.78679,     0.78779,     0.78879,     0.78979,     0.79079,     0.79179,\n",
              "           0.79279,     0.79379,     0.79479,      0.7958,      0.7968,      0.7978,      0.7988,      0.7998,      0.8008,      0.8018,      0.8028,      0.8038,      0.8048,     0.80581,     0.80681,     0.80781,     0.80881,     0.80981,     0.81081,     0.81181,     0.81281,     0.81381,     0.81481,     0.81582,\n",
              "           0.81682,     0.81782,     0.81882,     0.81982,     0.82082,     0.82182,     0.82282,     0.82382,     0.82482,     0.82583,     0.82683,     0.82783,     0.82883,     0.82983,     0.83083,     0.83183,     0.83283,     0.83383,     0.83483,     0.83584,     0.83684,     0.83784,     0.83884,     0.83984,\n",
              "           0.84084,     0.84184,     0.84284,     0.84384,     0.84484,     0.84585,     0.84685,     0.84785,     0.84885,     0.84985,     0.85085,     0.85185,     0.85285,     0.85385,     0.85485,     0.85586,     0.85686,     0.85786,     0.85886,     0.85986,     0.86086,     0.86186,     0.86286,     0.86386,\n",
              "           0.86486,     0.86587,     0.86687,     0.86787,     0.86887,     0.86987,     0.87087,     0.87187,     0.87287,     0.87387,     0.87487,     0.87588,     0.87688,     0.87788,     0.87888,     0.87988,     0.88088,     0.88188,     0.88288,     0.88388,     0.88488,     0.88589,     0.88689,     0.88789,\n",
              "           0.88889,     0.88989,     0.89089,     0.89189,     0.89289,     0.89389,     0.89489,      0.8959,      0.8969,      0.8979,      0.8989,      0.8999,      0.9009,      0.9019,      0.9029,      0.9039,      0.9049,     0.90591,     0.90691,     0.90791,     0.90891,     0.90991,     0.91091,     0.91191,\n",
              "           0.91291,     0.91391,     0.91491,     0.91592,     0.91692,     0.91792,     0.91892,     0.91992,     0.92092,     0.92192,     0.92292,     0.92392,     0.92492,     0.92593,     0.92693,     0.92793,     0.92893,     0.92993,     0.93093,     0.93193,     0.93293,     0.93393,     0.93493,     0.93594,\n",
              "           0.93694,     0.93794,     0.93894,     0.93994,     0.94094,     0.94194,     0.94294,     0.94394,     0.94494,     0.94595,     0.94695,     0.94795,     0.94895,     0.94995,     0.95095,     0.95195,     0.95295,     0.95395,     0.95495,     0.95596,     0.95696,     0.95796,     0.95896,     0.95996,\n",
              "           0.96096,     0.96196,     0.96296,     0.96396,     0.96496,     0.96597,     0.96697,     0.96797,     0.96897,     0.96997,     0.97097,     0.97197,     0.97297,     0.97397,     0.97497,     0.97598,     0.97698,     0.97798,     0.97898,     0.97998,     0.98098,     0.98198,     0.98298,     0.98398,\n",
              "           0.98498,     0.98599,     0.98699,     0.98799,     0.98899,     0.98999,     0.99099,     0.99199,     0.99299,     0.99399,     0.99499,       0.996,       0.997,       0.998,       0.999,           1]), array([[    0.99115,     0.99115,     0.99115,     0.99115,     0.99115,     0.99115,     0.99115,     0.99115,     0.99115,     0.99115,     0.99115,     0.99115,     0.99115,     0.99115,     0.99115,     0.99115,     0.99115,     0.99115,     0.99115,     0.99115,     0.99115,     0.99115,     0.99115,\n",
              "            0.99115,     0.99115,     0.99115,     0.99115,     0.99115,     0.99115,     0.99115,     0.99115,     0.99115,     0.98759,      0.9823,      0.9823,      0.9823,      0.9823,      0.9823,      0.9823,      0.9823,      0.9823,      0.9823,      0.9823,      0.9823,      0.9823,      0.9823,\n",
              "             0.9823,      0.9823,      0.9823,      0.9823,      0.9823,      0.9823,      0.9823,      0.9823,     0.97345,     0.97345,     0.97345,     0.97345,     0.97345,     0.97345,     0.97345,     0.97345,     0.97345,     0.97345,     0.97345,     0.97345,     0.97345,     0.97345,     0.97345,\n",
              "            0.97345,     0.97345,     0.97345,     0.97345,     0.97345,     0.97345,     0.97345,     0.97345,     0.97345,     0.97345,     0.97345,     0.97345,     0.97345,     0.97345,     0.97345,     0.97345,     0.97345,     0.97345,     0.97345,     0.97345,     0.97345,     0.97345,     0.97345,\n",
              "            0.97345,     0.97345,     0.97345,     0.97345,     0.97345,     0.97345,     0.97345,     0.97345,     0.97345,     0.97345,     0.97345,     0.97345,     0.97345,     0.97345,     0.97345,     0.97345,     0.97345,     0.97345,     0.97345,     0.97345,     0.97345,     0.97345,     0.97345,\n",
              "            0.97345,     0.97345,     0.97345,     0.97345,     0.97345,     0.97345,     0.97345,     0.97345,     0.97345,     0.97345,     0.97345,     0.97345,     0.97345,     0.97345,     0.97345,     0.97345,     0.97345,     0.97345,     0.97345,     0.97345,     0.97345,     0.97345,     0.97345,\n",
              "            0.97345,     0.97345,     0.97345,     0.97345,     0.97345,     0.97345,     0.97345,     0.97345,     0.97345,     0.97345,     0.97345,     0.97345,     0.97345,     0.97345,     0.97345,     0.97345,     0.97345,     0.97345,     0.97345,     0.97345,     0.97309,     0.97265,      0.9722,\n",
              "            0.97176,     0.97131,     0.97087,     0.97042,     0.96997,     0.96953,     0.96908,     0.96864,     0.96819,     0.96775,      0.9673,     0.96686,     0.96641,     0.96597,     0.96552,     0.96508,     0.96463,      0.9646,      0.9646,      0.9646,      0.9646,      0.9646,      0.9646,\n",
              "             0.9646,      0.9646,      0.9646,      0.9646,      0.9646,      0.9646,      0.9646,      0.9646,      0.9646,      0.9646,      0.9646,      0.9646,      0.9646,      0.9646,      0.9646,      0.9646,      0.9646,      0.9646,      0.9646,      0.9646,      0.9646,      0.9646,      0.9646,\n",
              "             0.9646,      0.9646,      0.9646,      0.9646,      0.9646,      0.9646,      0.9646,      0.9646,      0.9646,      0.9646,      0.9646,      0.9646,      0.9646,      0.9646,      0.9646,      0.9646,      0.9646,      0.9646,      0.9646,      0.9646,      0.9646,      0.9646,      0.9646,\n",
              "             0.9646,      0.9646,      0.9646,      0.9646,      0.9646,      0.9646,      0.9646,      0.9646,      0.9646,      0.9646,      0.9646,      0.9646,      0.9646,      0.9646,      0.9646,      0.9646,      0.9646,      0.9646,      0.9646,      0.9646,      0.9646,      0.9646,      0.9646,\n",
              "             0.9646,      0.9646,      0.9646,      0.9646,      0.9646,      0.9646,      0.9646,      0.9646,      0.9646,      0.9646,      0.9646,      0.9646,      0.9646,      0.9646,      0.9646,      0.9646,      0.9646,      0.9646,      0.9646,      0.9646,      0.9646,      0.9646,      0.9646,\n",
              "             0.9646,      0.9646,      0.9646,      0.9646,      0.9646,      0.9646,      0.9646,      0.9646,      0.9646,      0.9646,      0.9646,      0.9646,      0.9646,      0.9646,      0.9646,      0.9646,      0.9646,      0.9646,      0.9646,      0.9646,      0.9646,      0.9646,      0.9646,\n",
              "             0.9646,      0.9646,      0.9646,      0.9646,      0.9646,      0.9646,      0.9646,      0.9646,      0.9646,      0.9646,      0.9646,      0.9646,      0.9646,      0.9646,      0.9646,      0.9646,      0.9646,      0.9646,      0.9646,      0.9646,      0.9646,      0.9646,      0.9646,\n",
              "             0.9646,      0.9646,      0.9646,      0.9646,      0.9646,      0.9646,      0.9646,      0.9646,      0.9646,      0.9646,      0.9646,      0.9646,      0.9646,      0.9646,      0.9646,      0.9646,      0.9646,      0.9646,      0.9646,      0.9646,      0.9646,      0.9646,      0.9646,\n",
              "             0.9646,      0.9646,      0.9646,      0.9646,      0.9646,      0.9646,      0.9646,      0.9646,      0.9646,      0.9646,      0.9646,      0.9646,      0.9646,      0.9646,      0.9646,      0.9646,      0.9646,      0.9646,      0.9646,      0.9646,      0.9646,      0.9646,      0.9646,\n",
              "             0.9646,      0.9646,      0.9646,      0.9646,      0.9646,      0.9646,      0.9646,      0.9646,      0.9646,      0.9646,      0.9646,      0.9646,      0.9646,      0.9646,      0.9646,      0.9646,      0.9646,      0.9646,      0.9646,      0.9646,      0.9646,      0.9646,      0.9646,\n",
              "             0.9646,      0.9646,      0.9646,      0.9646,      0.9646,      0.9646,      0.9646,      0.9646,      0.9646,      0.9646,      0.9646,      0.9646,      0.9646,      0.9646,      0.9646,      0.9646,      0.9646,      0.9646,      0.9646,      0.9646,      0.9646,      0.9646,      0.9646,\n",
              "             0.9646,      0.9646,      0.9646,      0.9646,      0.9646,      0.9646,      0.9646,      0.9646,      0.9646,      0.9646,      0.9646,      0.9646,      0.9646,      0.9646,      0.9646,      0.9646,      0.9646,      0.9646,      0.9646,      0.9646,      0.9646,      0.9646,      0.9646,\n",
              "             0.9646,      0.9646,      0.9646,      0.9646,      0.9646,      0.9646,      0.9646,      0.9646,      0.9646,      0.9646,      0.9646,      0.9646,      0.9646,      0.9646,      0.9646,      0.9646,      0.9646,      0.9646,      0.9646,      0.9646,      0.9646,      0.9646,      0.9646,\n",
              "             0.9646,      0.9646,      0.9646,      0.9646,      0.9646,      0.9646,      0.9646,      0.9646,      0.9646,      0.9646,      0.9646,      0.9646,      0.9646,      0.9646,      0.9646,      0.9646,      0.9646,      0.9646,      0.9646,      0.9646,      0.9646,      0.9646,      0.9646,\n",
              "             0.9646,      0.9646,      0.9646,      0.9646,      0.9646,      0.9646,      0.9646,      0.9646,      0.9646,      0.9646,      0.9646,      0.9646,      0.9646,      0.9646,      0.9646,      0.9646,      0.9646,      0.9646,      0.9646,      0.9646,      0.9646,      0.9646,      0.9646,\n",
              "             0.9646,      0.9646,      0.9646,      0.9646,      0.9646,      0.9646,      0.9646,      0.9646,      0.9646,      0.9646,      0.9646,      0.9646,      0.9646,      0.9646,      0.9646,      0.9646,      0.9646,      0.9646,      0.9646,      0.9646,      0.9646,      0.9646,      0.9646,\n",
              "             0.9646,      0.9646,      0.9646,      0.9646,      0.9646,      0.9646,      0.9646,      0.9646,      0.9646,      0.9646,      0.9646,      0.9646,      0.9646,      0.9646,      0.9646,     0.96189,     0.95735,     0.95575,     0.95575,     0.95575,     0.95575,     0.95575,     0.95575,\n",
              "            0.95575,     0.95575,     0.95575,     0.95575,     0.95575,     0.95575,     0.95575,     0.95575,     0.95575,     0.95575,     0.95575,     0.95575,     0.95575,     0.95575,     0.95575,     0.95575,     0.95575,     0.95575,     0.95575,     0.95575,     0.95575,     0.95575,     0.95575,\n",
              "            0.95575,     0.95575,     0.95575,     0.95575,     0.95575,     0.95575,     0.95575,     0.95575,     0.95575,     0.95575,     0.95575,     0.95575,     0.95575,     0.95575,     0.95575,     0.95575,     0.95575,     0.95575,     0.95575,     0.95575,     0.95575,      0.9549,     0.95395,\n",
              "            0.95299,     0.95204,     0.95108,     0.95013,     0.94917,     0.94822,     0.94726,     0.94124,     0.93788,     0.93762,     0.93736,     0.93709,     0.93683,     0.93657,      0.9363,     0.93604,     0.93578,     0.93552,     0.93525,     0.93499,     0.93473,     0.93446,      0.9342,\n",
              "            0.93394,     0.93368,     0.93341,     0.93315,     0.93289,     0.93262,     0.93236,      0.9321,     0.93184,     0.93157,     0.93131,     0.93105,     0.93078,     0.93052,     0.93026,     0.92999,     0.92973,     0.92947,     0.92921,     0.92886,     0.92852,     0.92818,     0.92784,\n",
              "             0.9275,     0.92715,     0.92681,     0.92647,     0.92613,     0.92578,     0.92544,      0.9251,     0.92476,     0.92441,     0.92407,     0.92373,     0.92339,     0.92305,      0.9227,     0.92236,     0.92202,     0.92168,     0.92133,     0.92099,     0.92065,     0.92035,     0.92035,\n",
              "            0.92035,     0.92035,     0.92035,     0.92035,     0.92035,     0.92035,     0.92035,     0.92035,     0.92035,     0.92035,     0.92035,     0.92035,     0.92035,     0.92035,     0.92035,     0.92035,     0.92035,     0.92035,     0.92035,     0.92035,     0.92035,     0.92035,     0.92035,\n",
              "            0.91979,     0.91903,     0.91828,     0.91752,     0.91676,     0.91601,     0.91525,      0.9145,     0.91374,     0.91298,     0.91223,     0.91147,     0.91065,     0.90982,       0.909,     0.90817,     0.90735,     0.90652,      0.9057,     0.90487,     0.90405,     0.90322,     0.90214,\n",
              "            0.90049,     0.89884,      0.8972,     0.89555,      0.8939,     0.89381,     0.89381,     0.89381,     0.89381,     0.89381,     0.89381,     0.89381,     0.89381,     0.89381,     0.89381,     0.89381,     0.89381,     0.89381,     0.89381,     0.89381,     0.89381,     0.89381,     0.89381,\n",
              "            0.89381,     0.89293,     0.89092,      0.8889,     0.88689,      0.8849,      0.8836,     0.88231,     0.88101,     0.87972,     0.87842,     0.87713,     0.87611,     0.87611,     0.87611,     0.87611,     0.87611,     0.87611,     0.87611,     0.87611,     0.87611,     0.87611,     0.87611,\n",
              "            0.87611,     0.87611,     0.87611,     0.87583,     0.87532,     0.87482,     0.87431,     0.87381,     0.87331,      0.8728,      0.8723,     0.87179,     0.87129,     0.87079,     0.87028,     0.86978,     0.86928,     0.86877,     0.86827,     0.86776,     0.86726,     0.85832,     0.85379,\n",
              "             0.8494,     0.84714,     0.84487,      0.8426,     0.84071,     0.84071,     0.84034,     0.83983,     0.83931,     0.83879,     0.83827,     0.83775,     0.83723,     0.83672,      0.8362,     0.83568,     0.83516,     0.83464,     0.83412,     0.83361,     0.83309,     0.83257,     0.83205,\n",
              "            0.83186,     0.83186,     0.83186,     0.83044,     0.82843,     0.82641,     0.82439,     0.82244,     0.82063,     0.81881,       0.817,     0.81519,      0.8135,     0.81199,     0.81048,     0.80897,     0.80745,     0.80594,     0.80481,     0.80394,     0.80308,     0.80222,     0.80135,\n",
              "            0.80049,     0.79962,     0.79876,      0.7979,     0.79703,     0.79442,     0.78837,     0.78233,      0.7769,     0.77236,     0.76158,     0.75996,     0.75883,     0.75769,     0.75656,     0.75542,     0.75429,     0.75316,     0.75161,     0.74798,     0.74435,     0.74248,     0.74127,\n",
              "            0.74006,     0.73885,     0.73764,     0.73643,     0.73523,     0.73078,     0.72566,     0.72566,     0.72566,     0.72554,     0.71949,     0.71176,     0.70796,     0.70576,     0.70214,     0.69912,     0.69912,      0.6977,     0.69568,     0.69366,     0.69165,     0.68884,     0.68431,\n",
              "            0.67483,     0.66463,     0.65487,     0.65487,     0.65057,     0.64603,      0.6415,     0.63689,     0.63084,      0.6282,      0.6269,      0.6256,     0.62431,     0.62301,     0.62172,     0.62042,     0.61465,     0.60002,     0.59397,     0.57317,     0.56712,      0.5632,     0.55957,\n",
              "            0.55488,     0.54883,     0.53541,     0.53092,     0.52866,     0.52639,     0.52412,       0.513,     0.51074,     0.50847,      0.5062,     0.50048,     0.48896,     0.47305,     0.44142,      0.4378,     0.43417,     0.40933,     0.38938,     0.38938,     0.38938,     0.38938,       0.377,\n",
              "            0.37337,     0.36683,     0.35334,     0.34494,     0.34292,     0.34091,     0.33889,     0.33688,     0.33415,     0.33113,      0.3281,     0.32272,     0.31572,     0.28998,     0.28393,     0.26196,     0.24029,     0.22449,     0.21845,      0.2124,     0.19427,     0.17687,     0.17428,\n",
              "            0.17168,     0.16909,     0.15666,     0.13852,     0.12656,     0.11108,    0.092943,    0.065951,    0.058412,    0.053877,    0.045585,    0.042529,    0.040513,    0.038498,    0.036482,    0.027009,    0.023012,    0.019384,    0.017092,    0.015958,    0.014824,     0.01369,    0.012556,\n",
              "           0.011422,    0.010288,   0.0091546,           0,           0,           0,           0,           0,           0,           0,           0,           0,           0,           0,           0,           0,           0,           0,           0,           0,           0,           0,           0,\n",
              "                  0,           0,           0,           0,           0,           0,           0,           0,           0,           0,           0]]), 'Confidence', 'Recall']]\n",
              "fitness: 0.8650007019039235\n",
              "keys: ['metrics/precision(B)', 'metrics/recall(B)', 'metrics/mAP50(B)', 'metrics/mAP50-95(B)']\n",
              "maps: array([    0.85445])\n",
              "names: {0: 'capibara'}\n",
              "plot: True\n",
              "results_dict: {'metrics/precision(B)': 0.865644842324622, 'metrics/recall(B)': 0.9557522123893806, 'metrics/mAP50(B)': 0.9599888796148182, 'metrics/mAP50-95(B)': 0.8544464599360463, 'fitness': 0.8650007019039235}\n",
              "save_dir: PosixPath('runs/detect/train4')\n",
              "speed: {'preprocess': 0.21697998046875, 'inference': 6.42824649810791, 'loss': 0.0006437301635742188, 'postprocess': 6.840732097625732}\n",
              "task: 'detect'"
            ]
          },
          "metadata": {},
          "execution_count": 3
        }
      ]
    }
  ]
}